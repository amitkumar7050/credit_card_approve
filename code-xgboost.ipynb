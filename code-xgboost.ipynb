{
 "cells": [
  {
   "cell_type": "code",
   "execution_count": 1,
   "id": "4d41977a",
   "metadata": {
    "_cell_guid": "b1076dfc-b9ad-4769-8c92-a6c4dae69d19",
    "_uuid": "8f2839f25d086af736a60e9eeb907d3b93b6e0e5",
    "execution": {
     "iopub.execute_input": "2024-12-05T16:24:45.216098Z",
     "iopub.status.busy": "2024-12-05T16:24:45.215683Z",
     "iopub.status.idle": "2024-12-05T16:24:46.351867Z",
     "shell.execute_reply": "2024-12-05T16:24:46.350370Z"
    },
    "papermill": {
     "duration": 1.155122,
     "end_time": "2024-12-05T16:24:46.355218",
     "exception": false,
     "start_time": "2024-12-05T16:24:45.200096",
     "status": "completed"
    },
    "tags": []
   },
   "outputs": [
    {
     "name": "stdout",
     "output_type": "stream",
     "text": [
      "/kaggle/input/credit-card-approval-prediction/credit_record.csv\n",
      "/kaggle/input/credit-card-approval-prediction/application_record.csv\n",
      "/kaggle/input/a-credit-card-dataset-for-machine-exam/credit_record.csv\n",
      "/kaggle/input/a-credit-card-dataset-for-machine-exam/application_record.csv\n"
     ]
    }
   ],
   "source": [
    "# This Python 3 environment comes with many helpful analytics libraries installed\n",
    "# It is defined by the kaggle/python Docker image: https://github.com/kaggle/docker-python\n",
    "# For example, here's several helpful packages to load\n",
    "\n",
    "import numpy as np # linear algebra\n",
    "import pandas as pd # data processing, CSV file I/O (e.g. pd.read_csv)\n",
    "\n",
    "# Input data files are available in the read-only \"../input/\" directory\n",
    "# For example, running this (by clicking run or pressing Shift+Enter) will list all files under the input directory\n",
    "\n",
    "import os\n",
    "for dirname, _, filenames in os.walk('/kaggle/input'):\n",
    "    for filename in filenames:\n",
    "        print(os.path.join(dirname, filename))\n",
    "\n",
    "# You can write up to 20GB to the current directory (/kaggle/working/) that gets preserved as output when you create a version using \"Save & Run All\" \n",
    "# You can also write temporary files to /kaggle/temp/, but they won't be saved outside of the current session"
   ]
  },
  {
   "cell_type": "code",
   "execution_count": 2,
   "id": "897ef4d5",
   "metadata": {
    "execution": {
     "iopub.execute_input": "2024-12-05T16:24:46.383350Z",
     "iopub.status.busy": "2024-12-05T16:24:46.382834Z",
     "iopub.status.idle": "2024-12-05T16:24:48.385592Z",
     "shell.execute_reply": "2024-12-05T16:24:48.384308Z"
    },
    "papermill": {
     "duration": 2.019316,
     "end_time": "2024-12-05T16:24:48.388080",
     "exception": false,
     "start_time": "2024-12-05T16:24:46.368764",
     "status": "completed"
    },
    "tags": []
   },
   "outputs": [],
   "source": [
    "import seaborn as sns\n",
    "import matplotlib.pyplot as plt"
   ]
  },
  {
   "cell_type": "markdown",
   "id": "f6210139",
   "metadata": {
    "papermill": {
     "duration": 0.011501,
     "end_time": "2024-12-05T16:24:48.411439",
     "exception": false,
     "start_time": "2024-12-05T16:24:48.399938",
     "status": "completed"
    },
    "tags": []
   },
   "source": [
    "# **Exploring Data**"
   ]
  },
  {
   "cell_type": "code",
   "execution_count": 3,
   "id": "56c479e7",
   "metadata": {
    "execution": {
     "iopub.execute_input": "2024-12-05T16:24:48.442197Z",
     "iopub.status.busy": "2024-12-05T16:24:48.441628Z",
     "iopub.status.idle": "2024-12-05T16:24:48.910370Z",
     "shell.execute_reply": "2024-12-05T16:24:48.909124Z"
    },
    "papermill": {
     "duration": 0.48724,
     "end_time": "2024-12-05T16:24:48.913927",
     "exception": false,
     "start_time": "2024-12-05T16:24:48.426687",
     "status": "completed"
    },
    "tags": []
   },
   "outputs": [
    {
     "data": {
      "text/html": [
       "<div>\n",
       "<style scoped>\n",
       "    .dataframe tbody tr th:only-of-type {\n",
       "        vertical-align: middle;\n",
       "    }\n",
       "\n",
       "    .dataframe tbody tr th {\n",
       "        vertical-align: top;\n",
       "    }\n",
       "\n",
       "    .dataframe thead th {\n",
       "        text-align: right;\n",
       "    }\n",
       "</style>\n",
       "<table border=\"1\" class=\"dataframe\">\n",
       "  <thead>\n",
       "    <tr style=\"text-align: right;\">\n",
       "      <th></th>\n",
       "      <th>ID</th>\n",
       "      <th>MONTHS_BALANCE</th>\n",
       "      <th>STATUS</th>\n",
       "    </tr>\n",
       "  </thead>\n",
       "  <tbody>\n",
       "    <tr>\n",
       "      <th>0</th>\n",
       "      <td>5001711</td>\n",
       "      <td>0</td>\n",
       "      <td>X</td>\n",
       "    </tr>\n",
       "    <tr>\n",
       "      <th>1</th>\n",
       "      <td>5001711</td>\n",
       "      <td>-1</td>\n",
       "      <td>0</td>\n",
       "    </tr>\n",
       "    <tr>\n",
       "      <th>2</th>\n",
       "      <td>5001711</td>\n",
       "      <td>-2</td>\n",
       "      <td>0</td>\n",
       "    </tr>\n",
       "    <tr>\n",
       "      <th>3</th>\n",
       "      <td>5001711</td>\n",
       "      <td>-3</td>\n",
       "      <td>0</td>\n",
       "    </tr>\n",
       "    <tr>\n",
       "      <th>4</th>\n",
       "      <td>5001712</td>\n",
       "      <td>0</td>\n",
       "      <td>C</td>\n",
       "    </tr>\n",
       "    <tr>\n",
       "      <th>5</th>\n",
       "      <td>5001712</td>\n",
       "      <td>-1</td>\n",
       "      <td>C</td>\n",
       "    </tr>\n",
       "    <tr>\n",
       "      <th>6</th>\n",
       "      <td>5001712</td>\n",
       "      <td>-2</td>\n",
       "      <td>C</td>\n",
       "    </tr>\n",
       "    <tr>\n",
       "      <th>7</th>\n",
       "      <td>5001712</td>\n",
       "      <td>-3</td>\n",
       "      <td>C</td>\n",
       "    </tr>\n",
       "    <tr>\n",
       "      <th>8</th>\n",
       "      <td>5001712</td>\n",
       "      <td>-4</td>\n",
       "      <td>C</td>\n",
       "    </tr>\n",
       "    <tr>\n",
       "      <th>9</th>\n",
       "      <td>5001712</td>\n",
       "      <td>-5</td>\n",
       "      <td>C</td>\n",
       "    </tr>\n",
       "    <tr>\n",
       "      <th>10</th>\n",
       "      <td>5001712</td>\n",
       "      <td>-6</td>\n",
       "      <td>C</td>\n",
       "    </tr>\n",
       "    <tr>\n",
       "      <th>11</th>\n",
       "      <td>5001712</td>\n",
       "      <td>-7</td>\n",
       "      <td>C</td>\n",
       "    </tr>\n",
       "    <tr>\n",
       "      <th>12</th>\n",
       "      <td>5001712</td>\n",
       "      <td>-8</td>\n",
       "      <td>C</td>\n",
       "    </tr>\n",
       "    <tr>\n",
       "      <th>13</th>\n",
       "      <td>5001712</td>\n",
       "      <td>-9</td>\n",
       "      <td>0</td>\n",
       "    </tr>\n",
       "    <tr>\n",
       "      <th>14</th>\n",
       "      <td>5001712</td>\n",
       "      <td>-10</td>\n",
       "      <td>0</td>\n",
       "    </tr>\n",
       "    <tr>\n",
       "      <th>15</th>\n",
       "      <td>5001712</td>\n",
       "      <td>-11</td>\n",
       "      <td>0</td>\n",
       "    </tr>\n",
       "    <tr>\n",
       "      <th>16</th>\n",
       "      <td>5001712</td>\n",
       "      <td>-12</td>\n",
       "      <td>0</td>\n",
       "    </tr>\n",
       "    <tr>\n",
       "      <th>17</th>\n",
       "      <td>5001712</td>\n",
       "      <td>-13</td>\n",
       "      <td>0</td>\n",
       "    </tr>\n",
       "    <tr>\n",
       "      <th>18</th>\n",
       "      <td>5001712</td>\n",
       "      <td>-14</td>\n",
       "      <td>0</td>\n",
       "    </tr>\n",
       "    <tr>\n",
       "      <th>19</th>\n",
       "      <td>5001712</td>\n",
       "      <td>-15</td>\n",
       "      <td>0</td>\n",
       "    </tr>\n",
       "  </tbody>\n",
       "</table>\n",
       "</div>"
      ],
      "text/plain": [
       "         ID  MONTHS_BALANCE STATUS\n",
       "0   5001711               0      X\n",
       "1   5001711              -1      0\n",
       "2   5001711              -2      0\n",
       "3   5001711              -3      0\n",
       "4   5001712               0      C\n",
       "5   5001712              -1      C\n",
       "6   5001712              -2      C\n",
       "7   5001712              -3      C\n",
       "8   5001712              -4      C\n",
       "9   5001712              -5      C\n",
       "10  5001712              -6      C\n",
       "11  5001712              -7      C\n",
       "12  5001712              -8      C\n",
       "13  5001712              -9      0\n",
       "14  5001712             -10      0\n",
       "15  5001712             -11      0\n",
       "16  5001712             -12      0\n",
       "17  5001712             -13      0\n",
       "18  5001712             -14      0\n",
       "19  5001712             -15      0"
      ]
     },
     "execution_count": 3,
     "metadata": {},
     "output_type": "execute_result"
    }
   ],
   "source": [
    "credit_record_df = pd.read_csv('/kaggle/input/credit-card-approval-prediction/credit_record.csv')\n",
    "credit_record_df.head(20)"
   ]
  },
  {
   "cell_type": "code",
   "execution_count": 4,
   "id": "dd166325",
   "metadata": {
    "execution": {
     "iopub.execute_input": "2024-12-05T16:24:48.941023Z",
     "iopub.status.busy": "2024-12-05T16:24:48.940526Z",
     "iopub.status.idle": "2024-12-05T16:24:50.592441Z",
     "shell.execute_reply": "2024-12-05T16:24:50.591406Z"
    },
    "papermill": {
     "duration": 1.668831,
     "end_time": "2024-12-05T16:24:50.594996",
     "exception": false,
     "start_time": "2024-12-05T16:24:48.926165",
     "status": "completed"
    },
    "tags": []
   },
   "outputs": [
    {
     "data": {
      "text/html": [
       "<div>\n",
       "<style scoped>\n",
       "    .dataframe tbody tr th:only-of-type {\n",
       "        vertical-align: middle;\n",
       "    }\n",
       "\n",
       "    .dataframe tbody tr th {\n",
       "        vertical-align: top;\n",
       "    }\n",
       "\n",
       "    .dataframe thead th {\n",
       "        text-align: right;\n",
       "    }\n",
       "</style>\n",
       "<table border=\"1\" class=\"dataframe\">\n",
       "  <thead>\n",
       "    <tr style=\"text-align: right;\">\n",
       "      <th></th>\n",
       "      <th>ID</th>\n",
       "      <th>CODE_GENDER</th>\n",
       "      <th>FLAG_OWN_CAR</th>\n",
       "      <th>FLAG_OWN_REALTY</th>\n",
       "      <th>CNT_CHILDREN</th>\n",
       "      <th>AMT_INCOME_TOTAL</th>\n",
       "      <th>NAME_INCOME_TYPE</th>\n",
       "      <th>NAME_EDUCATION_TYPE</th>\n",
       "      <th>NAME_FAMILY_STATUS</th>\n",
       "      <th>NAME_HOUSING_TYPE</th>\n",
       "      <th>DAYS_BIRTH</th>\n",
       "      <th>DAYS_EMPLOYED</th>\n",
       "      <th>FLAG_MOBIL</th>\n",
       "      <th>FLAG_WORK_PHONE</th>\n",
       "      <th>FLAG_PHONE</th>\n",
       "      <th>FLAG_EMAIL</th>\n",
       "      <th>OCCUPATION_TYPE</th>\n",
       "      <th>CNT_FAM_MEMBERS</th>\n",
       "    </tr>\n",
       "  </thead>\n",
       "  <tbody>\n",
       "    <tr>\n",
       "      <th>0</th>\n",
       "      <td>5008804</td>\n",
       "      <td>M</td>\n",
       "      <td>Y</td>\n",
       "      <td>Y</td>\n",
       "      <td>0</td>\n",
       "      <td>427500.0</td>\n",
       "      <td>Working</td>\n",
       "      <td>Higher education</td>\n",
       "      <td>Civil marriage</td>\n",
       "      <td>Rented apartment</td>\n",
       "      <td>-12005</td>\n",
       "      <td>-4542</td>\n",
       "      <td>1</td>\n",
       "      <td>1</td>\n",
       "      <td>0</td>\n",
       "      <td>0</td>\n",
       "      <td>NaN</td>\n",
       "      <td>2.0</td>\n",
       "    </tr>\n",
       "    <tr>\n",
       "      <th>1</th>\n",
       "      <td>5008805</td>\n",
       "      <td>M</td>\n",
       "      <td>Y</td>\n",
       "      <td>Y</td>\n",
       "      <td>0</td>\n",
       "      <td>427500.0</td>\n",
       "      <td>Working</td>\n",
       "      <td>Higher education</td>\n",
       "      <td>Civil marriage</td>\n",
       "      <td>Rented apartment</td>\n",
       "      <td>-12005</td>\n",
       "      <td>-4542</td>\n",
       "      <td>1</td>\n",
       "      <td>1</td>\n",
       "      <td>0</td>\n",
       "      <td>0</td>\n",
       "      <td>NaN</td>\n",
       "      <td>2.0</td>\n",
       "    </tr>\n",
       "    <tr>\n",
       "      <th>2</th>\n",
       "      <td>5008806</td>\n",
       "      <td>M</td>\n",
       "      <td>Y</td>\n",
       "      <td>Y</td>\n",
       "      <td>0</td>\n",
       "      <td>112500.0</td>\n",
       "      <td>Working</td>\n",
       "      <td>Secondary / secondary special</td>\n",
       "      <td>Married</td>\n",
       "      <td>House / apartment</td>\n",
       "      <td>-21474</td>\n",
       "      <td>-1134</td>\n",
       "      <td>1</td>\n",
       "      <td>0</td>\n",
       "      <td>0</td>\n",
       "      <td>0</td>\n",
       "      <td>Security staff</td>\n",
       "      <td>2.0</td>\n",
       "    </tr>\n",
       "    <tr>\n",
       "      <th>3</th>\n",
       "      <td>5008808</td>\n",
       "      <td>F</td>\n",
       "      <td>N</td>\n",
       "      <td>Y</td>\n",
       "      <td>0</td>\n",
       "      <td>270000.0</td>\n",
       "      <td>Commercial associate</td>\n",
       "      <td>Secondary / secondary special</td>\n",
       "      <td>Single / not married</td>\n",
       "      <td>House / apartment</td>\n",
       "      <td>-19110</td>\n",
       "      <td>-3051</td>\n",
       "      <td>1</td>\n",
       "      <td>0</td>\n",
       "      <td>1</td>\n",
       "      <td>1</td>\n",
       "      <td>Sales staff</td>\n",
       "      <td>1.0</td>\n",
       "    </tr>\n",
       "    <tr>\n",
       "      <th>4</th>\n",
       "      <td>5008809</td>\n",
       "      <td>F</td>\n",
       "      <td>N</td>\n",
       "      <td>Y</td>\n",
       "      <td>0</td>\n",
       "      <td>270000.0</td>\n",
       "      <td>Commercial associate</td>\n",
       "      <td>Secondary / secondary special</td>\n",
       "      <td>Single / not married</td>\n",
       "      <td>House / apartment</td>\n",
       "      <td>-19110</td>\n",
       "      <td>-3051</td>\n",
       "      <td>1</td>\n",
       "      <td>0</td>\n",
       "      <td>1</td>\n",
       "      <td>1</td>\n",
       "      <td>Sales staff</td>\n",
       "      <td>1.0</td>\n",
       "    </tr>\n",
       "  </tbody>\n",
       "</table>\n",
       "</div>"
      ],
      "text/plain": [
       "        ID CODE_GENDER FLAG_OWN_CAR FLAG_OWN_REALTY  CNT_CHILDREN  \\\n",
       "0  5008804           M            Y               Y             0   \n",
       "1  5008805           M            Y               Y             0   \n",
       "2  5008806           M            Y               Y             0   \n",
       "3  5008808           F            N               Y             0   \n",
       "4  5008809           F            N               Y             0   \n",
       "\n",
       "   AMT_INCOME_TOTAL      NAME_INCOME_TYPE            NAME_EDUCATION_TYPE  \\\n",
       "0          427500.0               Working               Higher education   \n",
       "1          427500.0               Working               Higher education   \n",
       "2          112500.0               Working  Secondary / secondary special   \n",
       "3          270000.0  Commercial associate  Secondary / secondary special   \n",
       "4          270000.0  Commercial associate  Secondary / secondary special   \n",
       "\n",
       "     NAME_FAMILY_STATUS  NAME_HOUSING_TYPE  DAYS_BIRTH  DAYS_EMPLOYED  \\\n",
       "0        Civil marriage   Rented apartment      -12005          -4542   \n",
       "1        Civil marriage   Rented apartment      -12005          -4542   \n",
       "2               Married  House / apartment      -21474          -1134   \n",
       "3  Single / not married  House / apartment      -19110          -3051   \n",
       "4  Single / not married  House / apartment      -19110          -3051   \n",
       "\n",
       "   FLAG_MOBIL  FLAG_WORK_PHONE  FLAG_PHONE  FLAG_EMAIL OCCUPATION_TYPE  \\\n",
       "0           1                1           0           0             NaN   \n",
       "1           1                1           0           0             NaN   \n",
       "2           1                0           0           0  Security staff   \n",
       "3           1                0           1           1     Sales staff   \n",
       "4           1                0           1           1     Sales staff   \n",
       "\n",
       "   CNT_FAM_MEMBERS  \n",
       "0              2.0  \n",
       "1              2.0  \n",
       "2              2.0  \n",
       "3              1.0  \n",
       "4              1.0  "
      ]
     },
     "execution_count": 4,
     "metadata": {},
     "output_type": "execute_result"
    }
   ],
   "source": [
    "application_record_df = pd.read_csv('/kaggle/input/credit-card-approval-prediction/application_record.csv')\n",
    "application_record_df.head()"
   ]
  },
  {
   "cell_type": "markdown",
   "id": "e3e0d57b",
   "metadata": {
    "papermill": {
     "duration": 0.0128,
     "end_time": "2024-12-05T16:24:50.623176",
     "exception": false,
     "start_time": "2024-12-05T16:24:50.610376",
     "status": "completed"
    },
    "tags": []
   },
   "source": [
    "#### Size of Data"
   ]
  },
  {
   "cell_type": "code",
   "execution_count": 5,
   "id": "e53eae03",
   "metadata": {
    "execution": {
     "iopub.execute_input": "2024-12-05T16:24:50.649204Z",
     "iopub.status.busy": "2024-12-05T16:24:50.648821Z",
     "iopub.status.idle": "2024-12-05T16:24:50.654777Z",
     "shell.execute_reply": "2024-12-05T16:24:50.653562Z"
    },
    "papermill": {
     "duration": 0.021726,
     "end_time": "2024-12-05T16:24:50.657000",
     "exception": false,
     "start_time": "2024-12-05T16:24:50.635274",
     "status": "completed"
    },
    "tags": []
   },
   "outputs": [
    {
     "name": "stdout",
     "output_type": "stream",
     "text": [
      "Credit data have 1048575 rows , 3 columns.\n",
      "Application data have 438557 rows , 18 columns.\n"
     ]
    }
   ],
   "source": [
    "print(f'Credit data have {credit_record_df.shape[0]} rows , {credit_record_df.shape[1]} columns.')\n",
    "print(f'Application data have {application_record_df.shape[0]} rows , {application_record_df.shape[1]} columns.')"
   ]
  },
  {
   "cell_type": "markdown",
   "id": "c2c2c41a",
   "metadata": {
    "papermill": {
     "duration": 0.011897,
     "end_time": "2024-12-05T16:24:50.681099",
     "exception": false,
     "start_time": "2024-12-05T16:24:50.669202",
     "status": "completed"
    },
    "tags": []
   },
   "source": [
    "#### Cecking NULL values"
   ]
  },
  {
   "cell_type": "code",
   "execution_count": 6,
   "id": "98da8758",
   "metadata": {
    "execution": {
     "iopub.execute_input": "2024-12-05T16:24:50.707029Z",
     "iopub.status.busy": "2024-12-05T16:24:50.706643Z",
     "iopub.status.idle": "2024-12-05T16:24:50.933317Z",
     "shell.execute_reply": "2024-12-05T16:24:50.931943Z"
    },
    "papermill": {
     "duration": 0.242282,
     "end_time": "2024-12-05T16:24:50.935583",
     "exception": false,
     "start_time": "2024-12-05T16:24:50.693301",
     "status": "completed"
    },
    "tags": []
   },
   "outputs": [
    {
     "name": "stdout",
     "output_type": "stream",
     "text": [
      "Credit data null values:\n",
      "ID                0\n",
      "MONTHS_BALANCE    0\n",
      "STATUS            0\n",
      "dtype: int64\n",
      "Application data null values:\n",
      "ID                          0\n",
      "CODE_GENDER                 0\n",
      "FLAG_OWN_CAR                0\n",
      "FLAG_OWN_REALTY             0\n",
      "CNT_CHILDREN                0\n",
      "AMT_INCOME_TOTAL            0\n",
      "NAME_INCOME_TYPE            0\n",
      "NAME_EDUCATION_TYPE         0\n",
      "NAME_FAMILY_STATUS          0\n",
      "NAME_HOUSING_TYPE           0\n",
      "DAYS_BIRTH                  0\n",
      "DAYS_EMPLOYED               0\n",
      "FLAG_MOBIL                  0\n",
      "FLAG_WORK_PHONE             0\n",
      "FLAG_PHONE                  0\n",
      "FLAG_EMAIL                  0\n",
      "OCCUPATION_TYPE        134203\n",
      "CNT_FAM_MEMBERS             0\n",
      "dtype: int64\n"
     ]
    }
   ],
   "source": [
    "print('Credit data null values:')\n",
    "print(credit_record_df.isnull().sum())\n",
    "print('Application data null values:')\n",
    "print(application_record_df.isnull().sum())"
   ]
  },
  {
   "cell_type": "markdown",
   "id": "89d4ced9",
   "metadata": {
    "papermill": {
     "duration": 0.012221,
     "end_time": "2024-12-05T16:24:50.960449",
     "exception": false,
     "start_time": "2024-12-05T16:24:50.948228",
     "status": "completed"
    },
    "tags": []
   },
   "source": [
    "#### Checking Data Types"
   ]
  },
  {
   "cell_type": "code",
   "execution_count": 7,
   "id": "a97f08ef",
   "metadata": {
    "execution": {
     "iopub.execute_input": "2024-12-05T16:24:50.988234Z",
     "iopub.status.busy": "2024-12-05T16:24:50.987800Z",
     "iopub.status.idle": "2024-12-05T16:24:51.072906Z",
     "shell.execute_reply": "2024-12-05T16:24:51.071304Z"
    },
    "papermill": {
     "duration": 0.103124,
     "end_time": "2024-12-05T16:24:51.076091",
     "exception": false,
     "start_time": "2024-12-05T16:24:50.972967",
     "status": "completed"
    },
    "tags": []
   },
   "outputs": [
    {
     "name": "stdout",
     "output_type": "stream",
     "text": [
      "<class 'pandas.core.frame.DataFrame'>\n",
      "RangeIndex: 1048575 entries, 0 to 1048574\n",
      "Data columns (total 3 columns):\n",
      " #   Column          Non-Null Count    Dtype \n",
      "---  ------          --------------    ----- \n",
      " 0   ID              1048575 non-null  int64 \n",
      " 1   MONTHS_BALANCE  1048575 non-null  int64 \n",
      " 2   STATUS          1048575 non-null  object\n",
      "dtypes: int64(2), object(1)\n",
      "memory usage: 24.0+ MB\n"
     ]
    }
   ],
   "source": [
    "credit_record_df.info()"
   ]
  },
  {
   "cell_type": "code",
   "execution_count": 8,
   "id": "4d4abd4e",
   "metadata": {
    "execution": {
     "iopub.execute_input": "2024-12-05T16:24:51.122598Z",
     "iopub.status.busy": "2024-12-05T16:24:51.122207Z",
     "iopub.status.idle": "2024-12-05T16:24:51.332339Z",
     "shell.execute_reply": "2024-12-05T16:24:51.330923Z"
    },
    "papermill": {
     "duration": 0.238227,
     "end_time": "2024-12-05T16:24:51.334787",
     "exception": false,
     "start_time": "2024-12-05T16:24:51.096560",
     "status": "completed"
    },
    "tags": []
   },
   "outputs": [
    {
     "name": "stdout",
     "output_type": "stream",
     "text": [
      "<class 'pandas.core.frame.DataFrame'>\n",
      "RangeIndex: 438557 entries, 0 to 438556\n",
      "Data columns (total 18 columns):\n",
      " #   Column               Non-Null Count   Dtype  \n",
      "---  ------               --------------   -----  \n",
      " 0   ID                   438557 non-null  int64  \n",
      " 1   CODE_GENDER          438557 non-null  object \n",
      " 2   FLAG_OWN_CAR         438557 non-null  object \n",
      " 3   FLAG_OWN_REALTY      438557 non-null  object \n",
      " 4   CNT_CHILDREN         438557 non-null  int64  \n",
      " 5   AMT_INCOME_TOTAL     438557 non-null  float64\n",
      " 6   NAME_INCOME_TYPE     438557 non-null  object \n",
      " 7   NAME_EDUCATION_TYPE  438557 non-null  object \n",
      " 8   NAME_FAMILY_STATUS   438557 non-null  object \n",
      " 9   NAME_HOUSING_TYPE    438557 non-null  object \n",
      " 10  DAYS_BIRTH           438557 non-null  int64  \n",
      " 11  DAYS_EMPLOYED        438557 non-null  int64  \n",
      " 12  FLAG_MOBIL           438557 non-null  int64  \n",
      " 13  FLAG_WORK_PHONE      438557 non-null  int64  \n",
      " 14  FLAG_PHONE           438557 non-null  int64  \n",
      " 15  FLAG_EMAIL           438557 non-null  int64  \n",
      " 16  OCCUPATION_TYPE      304354 non-null  object \n",
      " 17  CNT_FAM_MEMBERS      438557 non-null  float64\n",
      "dtypes: float64(2), int64(8), object(8)\n",
      "memory usage: 60.2+ MB\n"
     ]
    }
   ],
   "source": [
    "application_record_df.info()"
   ]
  },
  {
   "cell_type": "markdown",
   "id": "6e92dd22",
   "metadata": {
    "papermill": {
     "duration": 0.013805,
     "end_time": "2024-12-05T16:24:51.361401",
     "exception": false,
     "start_time": "2024-12-05T16:24:51.347596",
     "status": "completed"
    },
    "tags": []
   },
   "source": [
    "# **Relationships between Columns**"
   ]
  },
  {
   "cell_type": "code",
   "execution_count": 9,
   "id": "d33c0485",
   "metadata": {
    "execution": {
     "iopub.execute_input": "2024-12-05T16:24:51.396037Z",
     "iopub.status.busy": "2024-12-05T16:24:51.395513Z",
     "iopub.status.idle": "2024-12-05T16:24:52.204089Z",
     "shell.execute_reply": "2024-12-05T16:24:52.202660Z"
    },
    "papermill": {
     "duration": 0.829739,
     "end_time": "2024-12-05T16:24:52.206750",
     "exception": false,
     "start_time": "2024-12-05T16:24:51.377011",
     "status": "completed"
    },
    "tags": []
   },
   "outputs": [
    {
     "data": {
      "image/png": "[encoded data removed]",
      "text/plain": [
       "<Figure size 640x480 with 1 Axes>"
      ]
     },
     "metadata": {},
     "output_type": "display_data"
    }
   ],
   "source": [
    "sns.countplot(x='STATUS', data=credit_record_df)\n",
    "plt.show()"
   ]
  },
  {
   "cell_type": "code",
   "execution_count": 10,
   "id": "9bd5629c",
   "metadata": {
    "execution": {
     "iopub.execute_input": "2024-12-05T16:24:52.234936Z",
     "iopub.status.busy": "2024-12-05T16:24:52.234492Z",
     "iopub.status.idle": "2024-12-05T16:24:52.830220Z",
     "shell.execute_reply": "2024-12-05T16:24:52.828999Z"
    },
    "papermill": {
     "duration": 0.612461,
     "end_time": "2024-12-05T16:24:52.832421",
     "exception": false,
     "start_time": "2024-12-05T16:24:52.219960",
     "status": "completed"
    },
    "tags": []
   },
   "outputs": [
    {
     "data": {
      "image/png": "[encoded data removed]",
      "text/plain": [
       "<Figure size 640x480 with 1 Axes>"
      ]
     },
     "metadata": {},
     "output_type": "display_data"
    }
   ],
   "source": [
    "sns.countplot(x='MONTHS_BALANCE', data=credit_record_df)\n",
    "plt.show()"
   ]
  },
  {
   "cell_type": "code",
   "execution_count": 11,
   "id": "9a5066da",
   "metadata": {
    "execution": {
     "iopub.execute_input": "2024-12-05T16:24:52.860777Z",
     "iopub.status.busy": "2024-12-05T16:24:52.860379Z",
     "iopub.status.idle": "2024-12-05T16:24:52.874131Z",
     "shell.execute_reply": "2024-12-05T16:24:52.873022Z"
    },
    "papermill": {
     "duration": 0.030567,
     "end_time": "2024-12-05T16:24:52.876302",
     "exception": false,
     "start_time": "2024-12-05T16:24:52.845735",
     "status": "completed"
    },
    "tags": []
   },
   "outputs": [
    {
     "data": {
      "text/plain": [
       "61"
      ]
     },
     "execution_count": 11,
     "metadata": {},
     "output_type": "execute_result"
    }
   ],
   "source": [
    "credit_record_df.MONTHS_BALANCE.nunique()"
   ]
  },
  {
   "cell_type": "code",
   "execution_count": 12,
   "id": "f962d846",
   "metadata": {
    "execution": {
     "iopub.execute_input": "2024-12-05T16:24:52.905778Z",
     "iopub.status.busy": "2024-12-05T16:24:52.905310Z",
     "iopub.status.idle": "2024-12-05T16:24:52.913646Z",
     "shell.execute_reply": "2024-12-05T16:24:52.912398Z"
    },
    "papermill": {
     "duration": 0.025663,
     "end_time": "2024-12-05T16:24:52.915831",
     "exception": false,
     "start_time": "2024-12-05T16:24:52.890168",
     "status": "completed"
    },
    "tags": []
   },
   "outputs": [
    {
     "data": {
      "text/plain": [
       "-60"
      ]
     },
     "execution_count": 12,
     "metadata": {},
     "output_type": "execute_result"
    }
   ],
   "source": [
    "credit_record_df.MONTHS_BALANCE.min()"
   ]
  },
  {
   "cell_type": "code",
   "execution_count": 13,
   "id": "b3f3d528",
   "metadata": {
    "execution": {
     "iopub.execute_input": "2024-12-05T16:24:52.944845Z",
     "iopub.status.busy": "2024-12-05T16:24:52.944348Z",
     "iopub.status.idle": "2024-12-05T16:24:53.037190Z",
     "shell.execute_reply": "2024-12-05T16:24:53.035880Z"
    },
    "papermill": {
     "duration": 0.110387,
     "end_time": "2024-12-05T16:24:53.039896",
     "exception": false,
     "start_time": "2024-12-05T16:24:52.929509",
     "status": "completed"
    },
    "tags": []
   },
   "outputs": [
    {
     "data": {
      "text/plain": [
       "STATUS\n",
       "0           -3\n",
       "1           -4\n",
       "2    [-18, -3]\n",
       "3    [-17, -2]\n",
       "4           -1\n",
       "5            0\n",
       "C            0\n",
       "X            0\n",
       "Name: MONTHS_BALANCE, dtype: object"
      ]
     },
     "execution_count": 13,
     "metadata": {},
     "output_type": "execute_result"
    }
   ],
   "source": [
    "#credit_record_df['MONTHS_BALANCE'].groupby(credit_record_df['STATUS']).median()\n",
    "credit_record_df['MONTHS_BALANCE'].groupby(credit_record_df['STATUS']).agg(pd.Series.mode)"
   ]
  },
  {
   "cell_type": "code",
   "execution_count": 14,
   "id": "1fa35ee7",
   "metadata": {
    "execution": {
     "iopub.execute_input": "2024-12-05T16:24:53.070173Z",
     "iopub.status.busy": "2024-12-05T16:24:53.069779Z",
     "iopub.status.idle": "2024-12-05T16:24:56.492837Z",
     "shell.execute_reply": "2024-12-05T16:24:56.491691Z"
    },
    "papermill": {
     "duration": 3.44086,
     "end_time": "2024-12-05T16:24:56.495070",
     "exception": false,
     "start_time": "2024-12-05T16:24:53.054210",
     "status": "completed"
    },
    "tags": []
   },
   "outputs": [
    {
     "data": {
      "text/plain": [
       "<Axes: xlabel='STATUS', ylabel='count'>"
      ]
     },
     "execution_count": 14,
     "metadata": {},
     "output_type": "execute_result"
    },
    {
     "data": {
      "image/png": "[encoded data removed]",
      "text/plain": [
       "<Figure size 640x480 with 1 Axes>"
      ]
     },
     "metadata": {},
     "output_type": "display_data"
    }
   ],
   "source": [
    "sns.countplot(data=credit_record_df,x='STATUS', hue=credit_record_df['MONTHS_BALANCE'])"
   ]
  },
  {
   "cell_type": "code",
   "execution_count": 15,
   "id": "9fb437e1",
   "metadata": {
    "execution": {
     "iopub.execute_input": "2024-12-05T16:24:56.526564Z",
     "iopub.status.busy": "2024-12-05T16:24:56.526139Z",
     "iopub.status.idle": "2024-12-05T16:24:56.905694Z",
     "shell.execute_reply": "2024-12-05T16:24:56.904299Z"
    },
    "papermill": {
     "duration": 0.400155,
     "end_time": "2024-12-05T16:24:56.910278",
     "exception": false,
     "start_time": "2024-12-05T16:24:56.510123",
     "status": "completed"
    },
    "tags": []
   },
   "outputs": [
    {
     "data": {
      "image/png": "[encoded data removed]",
      "text/plain": [
       "<Figure size 640x480 with 1 Axes>"
      ]
     },
     "metadata": {},
     "output_type": "display_data"
    }
   ],
   "source": [
    "sns.countplot(x='NAME_INCOME_TYPE', data=application_record_df)\n",
    "plt.show()"
   ]
  },
  {
   "cell_type": "code",
   "execution_count": 16,
   "id": "410d98f9",
   "metadata": {
    "execution": {
     "iopub.execute_input": "2024-12-05T16:24:56.959110Z",
     "iopub.status.busy": "2024-12-05T16:24:56.958706Z",
     "iopub.status.idle": "2024-12-05T16:24:57.341374Z",
     "shell.execute_reply": "2024-12-05T16:24:57.340190Z"
    },
    "papermill": {
     "duration": 0.401384,
     "end_time": "2024-12-05T16:24:57.343704",
     "exception": false,
     "start_time": "2024-12-05T16:24:56.942320",
     "status": "completed"
    },
    "tags": []
   },
   "outputs": [
    {
     "data": {
      "text/html": [
       "<div>\n",
       "<style scoped>\n",
       "    .dataframe tbody tr th:only-of-type {\n",
       "        vertical-align: middle;\n",
       "    }\n",
       "\n",
       "    .dataframe tbody tr th {\n",
       "        vertical-align: top;\n",
       "    }\n",
       "\n",
       "    .dataframe thead th {\n",
       "        text-align: right;\n",
       "    }\n",
       "</style>\n",
       "<table border=\"1\" class=\"dataframe\">\n",
       "  <thead>\n",
       "    <tr style=\"text-align: right;\">\n",
       "      <th></th>\n",
       "      <th>ID</th>\n",
       "      <th>MONTHS_BALANCE</th>\n",
       "      <th>STATUS</th>\n",
       "      <th>Good or Bad</th>\n",
       "    </tr>\n",
       "  </thead>\n",
       "  <tbody>\n",
       "    <tr>\n",
       "      <th>0</th>\n",
       "      <td>5001711</td>\n",
       "      <td>0</td>\n",
       "      <td>X</td>\n",
       "      <td>Good</td>\n",
       "    </tr>\n",
       "    <tr>\n",
       "      <th>1</th>\n",
       "      <td>5001711</td>\n",
       "      <td>-1</td>\n",
       "      <td>0</td>\n",
       "      <td>Good</td>\n",
       "    </tr>\n",
       "    <tr>\n",
       "      <th>2</th>\n",
       "      <td>5001711</td>\n",
       "      <td>-2</td>\n",
       "      <td>0</td>\n",
       "      <td>Good</td>\n",
       "    </tr>\n",
       "    <tr>\n",
       "      <th>3</th>\n",
       "      <td>5001711</td>\n",
       "      <td>-3</td>\n",
       "      <td>0</td>\n",
       "      <td>Good</td>\n",
       "    </tr>\n",
       "    <tr>\n",
       "      <th>4</th>\n",
       "      <td>5001712</td>\n",
       "      <td>0</td>\n",
       "      <td>C</td>\n",
       "      <td>Good</td>\n",
       "    </tr>\n",
       "    <tr>\n",
       "      <th>...</th>\n",
       "      <td>...</td>\n",
       "      <td>...</td>\n",
       "      <td>...</td>\n",
       "      <td>...</td>\n",
       "    </tr>\n",
       "    <tr>\n",
       "      <th>1048570</th>\n",
       "      <td>5150487</td>\n",
       "      <td>-25</td>\n",
       "      <td>C</td>\n",
       "      <td>Good</td>\n",
       "    </tr>\n",
       "    <tr>\n",
       "      <th>1048571</th>\n",
       "      <td>5150487</td>\n",
       "      <td>-26</td>\n",
       "      <td>C</td>\n",
       "      <td>Good</td>\n",
       "    </tr>\n",
       "    <tr>\n",
       "      <th>1048572</th>\n",
       "      <td>5150487</td>\n",
       "      <td>-27</td>\n",
       "      <td>C</td>\n",
       "      <td>Good</td>\n",
       "    </tr>\n",
       "    <tr>\n",
       "      <th>1048573</th>\n",
       "      <td>5150487</td>\n",
       "      <td>-28</td>\n",
       "      <td>C</td>\n",
       "      <td>Good</td>\n",
       "    </tr>\n",
       "    <tr>\n",
       "      <th>1048574</th>\n",
       "      <td>5150487</td>\n",
       "      <td>-29</td>\n",
       "      <td>C</td>\n",
       "      <td>Good</td>\n",
       "    </tr>\n",
       "  </tbody>\n",
       "</table>\n",
       "<p>1048575 rows × 4 columns</p>\n",
       "</div>"
      ],
      "text/plain": [
       "              ID  MONTHS_BALANCE STATUS Good or Bad\n",
       "0        5001711               0      X        Good\n",
       "1        5001711              -1      0        Good\n",
       "2        5001711              -2      0        Good\n",
       "3        5001711              -3      0        Good\n",
       "4        5001712               0      C        Good\n",
       "...          ...             ...    ...         ...\n",
       "1048570  5150487             -25      C        Good\n",
       "1048571  5150487             -26      C        Good\n",
       "1048572  5150487             -27      C        Good\n",
       "1048573  5150487             -28      C        Good\n",
       "1048574  5150487             -29      C        Good\n",
       "\n",
       "[1048575 rows x 4 columns]"
      ]
     },
     "execution_count": 16,
     "metadata": {},
     "output_type": "execute_result"
    }
   ],
   "source": [
    "credit_record_df['Good or Bad'] = ['Good' if x in set(['0','X','C']) else 'Bad' for x in credit_record_df['STATUS']]\n",
    "credit_record_df"
   ]
  },
  {
   "cell_type": "code",
   "execution_count": 17,
   "id": "cb076cf3",
   "metadata": {
    "execution": {
     "iopub.execute_input": "2024-12-05T16:24:57.377134Z",
     "iopub.status.busy": "2024-12-05T16:24:57.376744Z",
     "iopub.status.idle": "2024-12-05T16:24:57.488822Z",
     "shell.execute_reply": "2024-12-05T16:24:57.487726Z"
    },
    "papermill": {
     "duration": 0.131833,
     "end_time": "2024-12-05T16:24:57.491237",
     "exception": false,
     "start_time": "2024-12-05T16:24:57.359404",
     "status": "completed"
    },
    "tags": []
   },
   "outputs": [
    {
     "data": {
      "text/html": [
       "<div>\n",
       "<style scoped>\n",
       "    .dataframe tbody tr th:only-of-type {\n",
       "        vertical-align: middle;\n",
       "    }\n",
       "\n",
       "    .dataframe tbody tr th {\n",
       "        vertical-align: top;\n",
       "    }\n",
       "\n",
       "    .dataframe thead th {\n",
       "        text-align: right;\n",
       "    }\n",
       "</style>\n",
       "<table border=\"1\" class=\"dataframe\">\n",
       "  <thead>\n",
       "    <tr style=\"text-align: right;\">\n",
       "      <th></th>\n",
       "      <th>ID</th>\n",
       "      <th>Good or Bad</th>\n",
       "      <th>size</th>\n",
       "    </tr>\n",
       "  </thead>\n",
       "  <tbody>\n",
       "    <tr>\n",
       "      <th>0</th>\n",
       "      <td>5001711</td>\n",
       "      <td>Good</td>\n",
       "      <td>4</td>\n",
       "    </tr>\n",
       "    <tr>\n",
       "      <th>1</th>\n",
       "      <td>5001712</td>\n",
       "      <td>Good</td>\n",
       "      <td>19</td>\n",
       "    </tr>\n",
       "    <tr>\n",
       "      <th>2</th>\n",
       "      <td>5001713</td>\n",
       "      <td>Good</td>\n",
       "      <td>22</td>\n",
       "    </tr>\n",
       "    <tr>\n",
       "      <th>3</th>\n",
       "      <td>5001714</td>\n",
       "      <td>Good</td>\n",
       "      <td>15</td>\n",
       "    </tr>\n",
       "    <tr>\n",
       "      <th>4</th>\n",
       "      <td>5001715</td>\n",
       "      <td>Good</td>\n",
       "      <td>60</td>\n",
       "    </tr>\n",
       "    <tr>\n",
       "      <th>...</th>\n",
       "      <td>...</td>\n",
       "      <td>...</td>\n",
       "      <td>...</td>\n",
       "    </tr>\n",
       "    <tr>\n",
       "      <th>51329</th>\n",
       "      <td>5150482</td>\n",
       "      <td>Good</td>\n",
       "      <td>18</td>\n",
       "    </tr>\n",
       "    <tr>\n",
       "      <th>51330</th>\n",
       "      <td>5150483</td>\n",
       "      <td>Good</td>\n",
       "      <td>18</td>\n",
       "    </tr>\n",
       "    <tr>\n",
       "      <th>51331</th>\n",
       "      <td>5150484</td>\n",
       "      <td>Good</td>\n",
       "      <td>13</td>\n",
       "    </tr>\n",
       "    <tr>\n",
       "      <th>51332</th>\n",
       "      <td>5150485</td>\n",
       "      <td>Good</td>\n",
       "      <td>2</td>\n",
       "    </tr>\n",
       "    <tr>\n",
       "      <th>51333</th>\n",
       "      <td>5150487</td>\n",
       "      <td>Good</td>\n",
       "      <td>30</td>\n",
       "    </tr>\n",
       "  </tbody>\n",
       "</table>\n",
       "<p>51334 rows × 3 columns</p>\n",
       "</div>"
      ],
      "text/plain": [
       "            ID Good or Bad  size\n",
       "0      5001711        Good     4\n",
       "1      5001712        Good    19\n",
       "2      5001713        Good    22\n",
       "3      5001714        Good    15\n",
       "4      5001715        Good    60\n",
       "...        ...         ...   ...\n",
       "51329  5150482        Good    18\n",
       "51330  5150483        Good    18\n",
       "51331  5150484        Good    13\n",
       "51332  5150485        Good     2\n",
       "51333  5150487        Good    30\n",
       "\n",
       "[51334 rows x 3 columns]"
      ]
     },
     "execution_count": 17,
     "metadata": {},
     "output_type": "execute_result"
    }
   ],
   "source": [
    "credit_goods_bads = credit_record_df.groupby(['ID','Good or Bad']).size().to_frame('size')\n",
    "credit_goods_bads.reset_index(inplace=True)\n",
    "credit_goods_bads"
   ]
  },
  {
   "cell_type": "code",
   "execution_count": 18,
   "id": "f0e24ac2",
   "metadata": {
    "execution": {
     "iopub.execute_input": "2024-12-05T16:24:57.524529Z",
     "iopub.status.busy": "2024-12-05T16:24:57.523464Z",
     "iopub.status.idle": "2024-12-05T16:24:57.547311Z",
     "shell.execute_reply": "2024-12-05T16:24:57.546111Z"
    },
    "papermill": {
     "duration": 0.042818,
     "end_time": "2024-12-05T16:24:57.549588",
     "exception": false,
     "start_time": "2024-12-05T16:24:57.506770",
     "status": "completed"
    },
    "tags": []
   },
   "outputs": [
    {
     "data": {
      "text/html": [
       "<div>\n",
       "<style scoped>\n",
       "    .dataframe tbody tr th:only-of-type {\n",
       "        vertical-align: middle;\n",
       "    }\n",
       "\n",
       "    .dataframe tbody tr th {\n",
       "        vertical-align: top;\n",
       "    }\n",
       "\n",
       "    .dataframe thead th {\n",
       "        text-align: right;\n",
       "    }\n",
       "</style>\n",
       "<table border=\"1\" class=\"dataframe\">\n",
       "  <thead>\n",
       "    <tr style=\"text-align: right;\">\n",
       "      <th></th>\n",
       "      <th>ID</th>\n",
       "      <th>Good or Bad</th>\n",
       "      <th>size</th>\n",
       "    </tr>\n",
       "  </thead>\n",
       "  <tbody>\n",
       "    <tr>\n",
       "      <th>0</th>\n",
       "      <td>5001711</td>\n",
       "      <td>Good</td>\n",
       "      <td>4</td>\n",
       "    </tr>\n",
       "    <tr>\n",
       "      <th>1</th>\n",
       "      <td>5001712</td>\n",
       "      <td>Good</td>\n",
       "      <td>19</td>\n",
       "    </tr>\n",
       "    <tr>\n",
       "      <th>2</th>\n",
       "      <td>5001713</td>\n",
       "      <td>Good</td>\n",
       "      <td>22</td>\n",
       "    </tr>\n",
       "    <tr>\n",
       "      <th>3</th>\n",
       "      <td>5001714</td>\n",
       "      <td>Good</td>\n",
       "      <td>15</td>\n",
       "    </tr>\n",
       "    <tr>\n",
       "      <th>4</th>\n",
       "      <td>5001715</td>\n",
       "      <td>Good</td>\n",
       "      <td>60</td>\n",
       "    </tr>\n",
       "    <tr>\n",
       "      <th>...</th>\n",
       "      <td>...</td>\n",
       "      <td>...</td>\n",
       "      <td>...</td>\n",
       "    </tr>\n",
       "    <tr>\n",
       "      <th>51329</th>\n",
       "      <td>5150482</td>\n",
       "      <td>Good</td>\n",
       "      <td>18</td>\n",
       "    </tr>\n",
       "    <tr>\n",
       "      <th>51330</th>\n",
       "      <td>5150483</td>\n",
       "      <td>Good</td>\n",
       "      <td>18</td>\n",
       "    </tr>\n",
       "    <tr>\n",
       "      <th>51331</th>\n",
       "      <td>5150484</td>\n",
       "      <td>Good</td>\n",
       "      <td>13</td>\n",
       "    </tr>\n",
       "    <tr>\n",
       "      <th>51332</th>\n",
       "      <td>5150485</td>\n",
       "      <td>Good</td>\n",
       "      <td>2</td>\n",
       "    </tr>\n",
       "    <tr>\n",
       "      <th>51333</th>\n",
       "      <td>5150487</td>\n",
       "      <td>Good</td>\n",
       "      <td>30</td>\n",
       "    </tr>\n",
       "  </tbody>\n",
       "</table>\n",
       "<p>45985 rows × 3 columns</p>\n",
       "</div>"
      ],
      "text/plain": [
       "            ID Good or Bad  size\n",
       "0      5001711        Good     4\n",
       "1      5001712        Good    19\n",
       "2      5001713        Good    22\n",
       "3      5001714        Good    15\n",
       "4      5001715        Good    60\n",
       "...        ...         ...   ...\n",
       "51329  5150482        Good    18\n",
       "51330  5150483        Good    18\n",
       "51331  5150484        Good    13\n",
       "51332  5150485        Good     2\n",
       "51333  5150487        Good    30\n",
       "\n",
       "[45985 rows x 3 columns]"
      ]
     },
     "execution_count": 18,
     "metadata": {},
     "output_type": "execute_result"
    }
   ],
   "source": [
    "idx = credit_goods_bads.groupby('ID')['size'].idxmax()\n",
    "max_goods_bads = credit_goods_bads.loc[idx]\n",
    "max_goods_bads"
   ]
  },
  {
   "cell_type": "code",
   "execution_count": 19,
   "id": "75ebcdab",
   "metadata": {
    "execution": {
     "iopub.execute_input": "2024-12-05T16:24:57.584869Z",
     "iopub.status.busy": "2024-12-05T16:24:57.584323Z",
     "iopub.status.idle": "2024-12-05T16:24:57.614266Z",
     "shell.execute_reply": "2024-12-05T16:24:57.613128Z"
    },
    "papermill": {
     "duration": 0.051108,
     "end_time": "2024-12-05T16:24:57.616784",
     "exception": false,
     "start_time": "2024-12-05T16:24:57.565676",
     "status": "completed"
    },
    "tags": []
   },
   "outputs": [
    {
     "data": {
      "text/html": [
       "<div>\n",
       "<style scoped>\n",
       "    .dataframe tbody tr th:only-of-type {\n",
       "        vertical-align: middle;\n",
       "    }\n",
       "\n",
       "    .dataframe tbody tr th {\n",
       "        vertical-align: top;\n",
       "    }\n",
       "\n",
       "    .dataframe thead th {\n",
       "        text-align: right;\n",
       "    }\n",
       "</style>\n",
       "<table border=\"1\" class=\"dataframe\">\n",
       "  <thead>\n",
       "    <tr style=\"text-align: right;\">\n",
       "      <th></th>\n",
       "      <th>ID</th>\n",
       "      <th>Good or Bad</th>\n",
       "      <th>size</th>\n",
       "      <th>Label</th>\n",
       "    </tr>\n",
       "  </thead>\n",
       "  <tbody>\n",
       "    <tr>\n",
       "      <th>0</th>\n",
       "      <td>5001711</td>\n",
       "      <td>Good</td>\n",
       "      <td>4</td>\n",
       "      <td>1</td>\n",
       "    </tr>\n",
       "    <tr>\n",
       "      <th>1</th>\n",
       "      <td>5001712</td>\n",
       "      <td>Good</td>\n",
       "      <td>19</td>\n",
       "      <td>1</td>\n",
       "    </tr>\n",
       "    <tr>\n",
       "      <th>2</th>\n",
       "      <td>5001713</td>\n",
       "      <td>Good</td>\n",
       "      <td>22</td>\n",
       "      <td>1</td>\n",
       "    </tr>\n",
       "    <tr>\n",
       "      <th>3</th>\n",
       "      <td>5001714</td>\n",
       "      <td>Good</td>\n",
       "      <td>15</td>\n",
       "      <td>1</td>\n",
       "    </tr>\n",
       "    <tr>\n",
       "      <th>4</th>\n",
       "      <td>5001715</td>\n",
       "      <td>Good</td>\n",
       "      <td>60</td>\n",
       "      <td>1</td>\n",
       "    </tr>\n",
       "    <tr>\n",
       "      <th>...</th>\n",
       "      <td>...</td>\n",
       "      <td>...</td>\n",
       "      <td>...</td>\n",
       "      <td>...</td>\n",
       "    </tr>\n",
       "    <tr>\n",
       "      <th>51329</th>\n",
       "      <td>5150482</td>\n",
       "      <td>Good</td>\n",
       "      <td>18</td>\n",
       "      <td>1</td>\n",
       "    </tr>\n",
       "    <tr>\n",
       "      <th>51330</th>\n",
       "      <td>5150483</td>\n",
       "      <td>Good</td>\n",
       "      <td>18</td>\n",
       "      <td>1</td>\n",
       "    </tr>\n",
       "    <tr>\n",
       "      <th>51331</th>\n",
       "      <td>5150484</td>\n",
       "      <td>Good</td>\n",
       "      <td>13</td>\n",
       "      <td>1</td>\n",
       "    </tr>\n",
       "    <tr>\n",
       "      <th>51332</th>\n",
       "      <td>5150485</td>\n",
       "      <td>Good</td>\n",
       "      <td>2</td>\n",
       "      <td>1</td>\n",
       "    </tr>\n",
       "    <tr>\n",
       "      <th>51333</th>\n",
       "      <td>5150487</td>\n",
       "      <td>Good</td>\n",
       "      <td>30</td>\n",
       "      <td>1</td>\n",
       "    </tr>\n",
       "  </tbody>\n",
       "</table>\n",
       "<p>45985 rows × 4 columns</p>\n",
       "</div>"
      ],
      "text/plain": [
       "            ID Good or Bad  size  Label\n",
       "0      5001711        Good     4      1\n",
       "1      5001712        Good    19      1\n",
       "2      5001713        Good    22      1\n",
       "3      5001714        Good    15      1\n",
       "4      5001715        Good    60      1\n",
       "...        ...         ...   ...    ...\n",
       "51329  5150482        Good    18      1\n",
       "51330  5150483        Good    18      1\n",
       "51331  5150484        Good    13      1\n",
       "51332  5150485        Good     2      1\n",
       "51333  5150487        Good    30      1\n",
       "\n",
       "[45985 rows x 4 columns]"
      ]
     },
     "execution_count": 19,
     "metadata": {},
     "output_type": "execute_result"
    }
   ],
   "source": [
    "max_goods_bads['Label'] = [1 if x == 'Good' else 0 for x in max_goods_bads['Good or Bad']]\n",
    "max_goods_bads"
   ]
  },
  {
   "cell_type": "code",
   "execution_count": 20,
   "id": "f3e3426b",
   "metadata": {
    "execution": {
     "iopub.execute_input": "2024-12-05T16:24:57.651763Z",
     "iopub.status.busy": "2024-12-05T16:24:57.651354Z",
     "iopub.status.idle": "2024-12-05T16:24:57.664916Z",
     "shell.execute_reply": "2024-12-05T16:24:57.663713Z"
    },
    "papermill": {
     "duration": 0.033399,
     "end_time": "2024-12-05T16:24:57.667153",
     "exception": false,
     "start_time": "2024-12-05T16:24:57.633754",
     "status": "completed"
    },
    "tags": []
   },
   "outputs": [
    {
     "data": {
      "text/html": [
       "<div>\n",
       "<style scoped>\n",
       "    .dataframe tbody tr th:only-of-type {\n",
       "        vertical-align: middle;\n",
       "    }\n",
       "\n",
       "    .dataframe tbody tr th {\n",
       "        vertical-align: top;\n",
       "    }\n",
       "\n",
       "    .dataframe thead th {\n",
       "        text-align: right;\n",
       "    }\n",
       "</style>\n",
       "<table border=\"1\" class=\"dataframe\">\n",
       "  <thead>\n",
       "    <tr style=\"text-align: right;\">\n",
       "      <th></th>\n",
       "      <th>ID</th>\n",
       "      <th>Label</th>\n",
       "    </tr>\n",
       "  </thead>\n",
       "  <tbody>\n",
       "    <tr>\n",
       "      <th>0</th>\n",
       "      <td>5001711</td>\n",
       "      <td>1</td>\n",
       "    </tr>\n",
       "    <tr>\n",
       "      <th>1</th>\n",
       "      <td>5001712</td>\n",
       "      <td>1</td>\n",
       "    </tr>\n",
       "    <tr>\n",
       "      <th>2</th>\n",
       "      <td>5001713</td>\n",
       "      <td>1</td>\n",
       "    </tr>\n",
       "    <tr>\n",
       "      <th>3</th>\n",
       "      <td>5001714</td>\n",
       "      <td>1</td>\n",
       "    </tr>\n",
       "    <tr>\n",
       "      <th>4</th>\n",
       "      <td>5001715</td>\n",
       "      <td>1</td>\n",
       "    </tr>\n",
       "    <tr>\n",
       "      <th>...</th>\n",
       "      <td>...</td>\n",
       "      <td>...</td>\n",
       "    </tr>\n",
       "    <tr>\n",
       "      <th>45980</th>\n",
       "      <td>5150482</td>\n",
       "      <td>1</td>\n",
       "    </tr>\n",
       "    <tr>\n",
       "      <th>45981</th>\n",
       "      <td>5150483</td>\n",
       "      <td>1</td>\n",
       "    </tr>\n",
       "    <tr>\n",
       "      <th>45982</th>\n",
       "      <td>5150484</td>\n",
       "      <td>1</td>\n",
       "    </tr>\n",
       "    <tr>\n",
       "      <th>45983</th>\n",
       "      <td>5150485</td>\n",
       "      <td>1</td>\n",
       "    </tr>\n",
       "    <tr>\n",
       "      <th>45984</th>\n",
       "      <td>5150487</td>\n",
       "      <td>1</td>\n",
       "    </tr>\n",
       "  </tbody>\n",
       "</table>\n",
       "<p>45985 rows × 2 columns</p>\n",
       "</div>"
      ],
      "text/plain": [
       "            ID  Label\n",
       "0      5001711      1\n",
       "1      5001712      1\n",
       "2      5001713      1\n",
       "3      5001714      1\n",
       "4      5001715      1\n",
       "...        ...    ...\n",
       "45980  5150482      1\n",
       "45981  5150483      1\n",
       "45982  5150484      1\n",
       "45983  5150485      1\n",
       "45984  5150487      1\n",
       "\n",
       "[45985 rows x 2 columns]"
      ]
     },
     "execution_count": 20,
     "metadata": {},
     "output_type": "execute_result"
    }
   ],
   "source": [
    "max_goods_bads = max_goods_bads.drop(['Good or Bad', 'size'], axis=1)\n",
    "max_goods_bads = max_goods_bads.reset_index(drop=True)\n",
    "max_goods_bads"
   ]
  },
  {
   "cell_type": "markdown",
   "id": "40d6f20e",
   "metadata": {
    "papermill": {
     "duration": 0.015964,
     "end_time": "2024-12-05T16:24:57.699850",
     "exception": false,
     "start_time": "2024-12-05T16:24:57.683886",
     "status": "completed"
    },
    "tags": []
   },
   "source": [
    "#### **Time to join data**"
   ]
  },
  {
   "cell_type": "code",
   "execution_count": 21,
   "id": "3358e269",
   "metadata": {
    "execution": {
     "iopub.execute_input": "2024-12-05T16:24:57.735280Z",
     "iopub.status.busy": "2024-12-05T16:24:57.734731Z",
     "iopub.status.idle": "2024-12-05T16:24:58.005169Z",
     "shell.execute_reply": "2024-12-05T16:24:58.003965Z"
    },
    "papermill": {
     "duration": 0.291508,
     "end_time": "2024-12-05T16:24:58.007883",
     "exception": false,
     "start_time": "2024-12-05T16:24:57.716375",
     "status": "completed"
    },
    "tags": []
   },
   "outputs": [],
   "source": [
    "# filling OCCUPATION_TYPE in application data\n",
    "application_record_df.fillna('Unknown', inplace=True)"
   ]
  },
  {
   "cell_type": "code",
   "execution_count": 22,
   "id": "c9061d67",
   "metadata": {
    "execution": {
     "iopub.execute_input": "2024-12-05T16:24:58.042478Z",
     "iopub.status.busy": "2024-12-05T16:24:58.042117Z",
     "iopub.status.idle": "2024-12-05T16:24:58.152415Z",
     "shell.execute_reply": "2024-12-05T16:24:58.151119Z"
    },
    "papermill": {
     "duration": 0.130352,
     "end_time": "2024-12-05T16:24:58.155055",
     "exception": false,
     "start_time": "2024-12-05T16:24:58.024703",
     "status": "completed"
    },
    "tags": []
   },
   "outputs": [
    {
     "data": {
      "text/plain": [
       "36457"
      ]
     },
     "execution_count": 22,
     "metadata": {},
     "output_type": "execute_result"
    }
   ],
   "source": [
    "len(set(application_record_df['ID']).intersection(set(max_goods_bads['ID'])))"
   ]
  },
  {
   "cell_type": "code",
   "execution_count": 23,
   "id": "64fbc517",
   "metadata": {
    "execution": {
     "iopub.execute_input": "2024-12-05T16:24:58.190560Z",
     "iopub.status.busy": "2024-12-05T16:24:58.190174Z",
     "iopub.status.idle": "2024-12-05T16:24:58.271662Z",
     "shell.execute_reply": "2024-12-05T16:24:58.270206Z"
    },
    "papermill": {
     "duration": 0.101776,
     "end_time": "2024-12-05T16:24:58.274148",
     "exception": false,
     "start_time": "2024-12-05T16:24:58.172372",
     "status": "completed"
    },
    "tags": []
   },
   "outputs": [
    {
     "data": {
      "text/html": [
       "<div>\n",
       "<style scoped>\n",
       "    .dataframe tbody tr th:only-of-type {\n",
       "        vertical-align: middle;\n",
       "    }\n",
       "\n",
       "    .dataframe tbody tr th {\n",
       "        vertical-align: top;\n",
       "    }\n",
       "\n",
       "    .dataframe thead th {\n",
       "        text-align: right;\n",
       "    }\n",
       "</style>\n",
       "<table border=\"1\" class=\"dataframe\">\n",
       "  <thead>\n",
       "    <tr style=\"text-align: right;\">\n",
       "      <th></th>\n",
       "      <th>ID</th>\n",
       "      <th>CODE_GENDER</th>\n",
       "      <th>FLAG_OWN_CAR</th>\n",
       "      <th>FLAG_OWN_REALTY</th>\n",
       "      <th>CNT_CHILDREN</th>\n",
       "      <th>AMT_INCOME_TOTAL</th>\n",
       "      <th>NAME_INCOME_TYPE</th>\n",
       "      <th>NAME_EDUCATION_TYPE</th>\n",
       "      <th>NAME_FAMILY_STATUS</th>\n",
       "      <th>NAME_HOUSING_TYPE</th>\n",
       "      <th>DAYS_BIRTH</th>\n",
       "      <th>DAYS_EMPLOYED</th>\n",
       "      <th>FLAG_MOBIL</th>\n",
       "      <th>FLAG_WORK_PHONE</th>\n",
       "      <th>FLAG_PHONE</th>\n",
       "      <th>FLAG_EMAIL</th>\n",
       "      <th>OCCUPATION_TYPE</th>\n",
       "      <th>CNT_FAM_MEMBERS</th>\n",
       "      <th>Label</th>\n",
       "    </tr>\n",
       "  </thead>\n",
       "  <tbody>\n",
       "    <tr>\n",
       "      <th>0</th>\n",
       "      <td>5008804</td>\n",
       "      <td>M</td>\n",
       "      <td>Y</td>\n",
       "      <td>Y</td>\n",
       "      <td>0</td>\n",
       "      <td>427500.0</td>\n",
       "      <td>Working</td>\n",
       "      <td>Higher education</td>\n",
       "      <td>Civil marriage</td>\n",
       "      <td>Rented apartment</td>\n",
       "      <td>-12005</td>\n",
       "      <td>-4542</td>\n",
       "      <td>1</td>\n",
       "      <td>1</td>\n",
       "      <td>0</td>\n",
       "      <td>0</td>\n",
       "      <td>Unknown</td>\n",
       "      <td>2.0</td>\n",
       "      <td>1</td>\n",
       "    </tr>\n",
       "    <tr>\n",
       "      <th>1</th>\n",
       "      <td>5008805</td>\n",
       "      <td>M</td>\n",
       "      <td>Y</td>\n",
       "      <td>Y</td>\n",
       "      <td>0</td>\n",
       "      <td>427500.0</td>\n",
       "      <td>Working</td>\n",
       "      <td>Higher education</td>\n",
       "      <td>Civil marriage</td>\n",
       "      <td>Rented apartment</td>\n",
       "      <td>-12005</td>\n",
       "      <td>-4542</td>\n",
       "      <td>1</td>\n",
       "      <td>1</td>\n",
       "      <td>0</td>\n",
       "      <td>0</td>\n",
       "      <td>Unknown</td>\n",
       "      <td>2.0</td>\n",
       "      <td>1</td>\n",
       "    </tr>\n",
       "    <tr>\n",
       "      <th>2</th>\n",
       "      <td>5008806</td>\n",
       "      <td>M</td>\n",
       "      <td>Y</td>\n",
       "      <td>Y</td>\n",
       "      <td>0</td>\n",
       "      <td>112500.0</td>\n",
       "      <td>Working</td>\n",
       "      <td>Secondary / secondary special</td>\n",
       "      <td>Married</td>\n",
       "      <td>House / apartment</td>\n",
       "      <td>-21474</td>\n",
       "      <td>-1134</td>\n",
       "      <td>1</td>\n",
       "      <td>0</td>\n",
       "      <td>0</td>\n",
       "      <td>0</td>\n",
       "      <td>Security staff</td>\n",
       "      <td>2.0</td>\n",
       "      <td>1</td>\n",
       "    </tr>\n",
       "    <tr>\n",
       "      <th>3</th>\n",
       "      <td>5008808</td>\n",
       "      <td>F</td>\n",
       "      <td>N</td>\n",
       "      <td>Y</td>\n",
       "      <td>0</td>\n",
       "      <td>270000.0</td>\n",
       "      <td>Commercial associate</td>\n",
       "      <td>Secondary / secondary special</td>\n",
       "      <td>Single / not married</td>\n",
       "      <td>House / apartment</td>\n",
       "      <td>-19110</td>\n",
       "      <td>-3051</td>\n",
       "      <td>1</td>\n",
       "      <td>0</td>\n",
       "      <td>1</td>\n",
       "      <td>1</td>\n",
       "      <td>Sales staff</td>\n",
       "      <td>1.0</td>\n",
       "      <td>1</td>\n",
       "    </tr>\n",
       "    <tr>\n",
       "      <th>4</th>\n",
       "      <td>5008809</td>\n",
       "      <td>F</td>\n",
       "      <td>N</td>\n",
       "      <td>Y</td>\n",
       "      <td>0</td>\n",
       "      <td>270000.0</td>\n",
       "      <td>Commercial associate</td>\n",
       "      <td>Secondary / secondary special</td>\n",
       "      <td>Single / not married</td>\n",
       "      <td>House / apartment</td>\n",
       "      <td>-19110</td>\n",
       "      <td>-3051</td>\n",
       "      <td>1</td>\n",
       "      <td>0</td>\n",
       "      <td>1</td>\n",
       "      <td>1</td>\n",
       "      <td>Sales staff</td>\n",
       "      <td>1.0</td>\n",
       "      <td>1</td>\n",
       "    </tr>\n",
       "    <tr>\n",
       "      <th>...</th>\n",
       "      <td>...</td>\n",
       "      <td>...</td>\n",
       "      <td>...</td>\n",
       "      <td>...</td>\n",
       "      <td>...</td>\n",
       "      <td>...</td>\n",
       "      <td>...</td>\n",
       "      <td>...</td>\n",
       "      <td>...</td>\n",
       "      <td>...</td>\n",
       "      <td>...</td>\n",
       "      <td>...</td>\n",
       "      <td>...</td>\n",
       "      <td>...</td>\n",
       "      <td>...</td>\n",
       "      <td>...</td>\n",
       "      <td>...</td>\n",
       "      <td>...</td>\n",
       "      <td>...</td>\n",
       "    </tr>\n",
       "    <tr>\n",
       "      <th>36452</th>\n",
       "      <td>5149828</td>\n",
       "      <td>M</td>\n",
       "      <td>Y</td>\n",
       "      <td>Y</td>\n",
       "      <td>0</td>\n",
       "      <td>315000.0</td>\n",
       "      <td>Working</td>\n",
       "      <td>Secondary / secondary special</td>\n",
       "      <td>Married</td>\n",
       "      <td>House / apartment</td>\n",
       "      <td>-17348</td>\n",
       "      <td>-2420</td>\n",
       "      <td>1</td>\n",
       "      <td>0</td>\n",
       "      <td>0</td>\n",
       "      <td>0</td>\n",
       "      <td>Managers</td>\n",
       "      <td>2.0</td>\n",
       "      <td>1</td>\n",
       "    </tr>\n",
       "    <tr>\n",
       "      <th>36453</th>\n",
       "      <td>5149834</td>\n",
       "      <td>F</td>\n",
       "      <td>N</td>\n",
       "      <td>Y</td>\n",
       "      <td>0</td>\n",
       "      <td>157500.0</td>\n",
       "      <td>Commercial associate</td>\n",
       "      <td>Higher education</td>\n",
       "      <td>Married</td>\n",
       "      <td>House / apartment</td>\n",
       "      <td>-12387</td>\n",
       "      <td>-1325</td>\n",
       "      <td>1</td>\n",
       "      <td>0</td>\n",
       "      <td>1</td>\n",
       "      <td>1</td>\n",
       "      <td>Medicine staff</td>\n",
       "      <td>2.0</td>\n",
       "      <td>0</td>\n",
       "    </tr>\n",
       "    <tr>\n",
       "      <th>36454</th>\n",
       "      <td>5149838</td>\n",
       "      <td>F</td>\n",
       "      <td>N</td>\n",
       "      <td>Y</td>\n",
       "      <td>0</td>\n",
       "      <td>157500.0</td>\n",
       "      <td>Pensioner</td>\n",
       "      <td>Higher education</td>\n",
       "      <td>Married</td>\n",
       "      <td>House / apartment</td>\n",
       "      <td>-12387</td>\n",
       "      <td>-1325</td>\n",
       "      <td>1</td>\n",
       "      <td>0</td>\n",
       "      <td>1</td>\n",
       "      <td>1</td>\n",
       "      <td>Medicine staff</td>\n",
       "      <td>2.0</td>\n",
       "      <td>0</td>\n",
       "    </tr>\n",
       "    <tr>\n",
       "      <th>36455</th>\n",
       "      <td>5150049</td>\n",
       "      <td>F</td>\n",
       "      <td>N</td>\n",
       "      <td>Y</td>\n",
       "      <td>0</td>\n",
       "      <td>283500.0</td>\n",
       "      <td>Working</td>\n",
       "      <td>Secondary / secondary special</td>\n",
       "      <td>Married</td>\n",
       "      <td>House / apartment</td>\n",
       "      <td>-17958</td>\n",
       "      <td>-655</td>\n",
       "      <td>1</td>\n",
       "      <td>0</td>\n",
       "      <td>0</td>\n",
       "      <td>0</td>\n",
       "      <td>Sales staff</td>\n",
       "      <td>2.0</td>\n",
       "      <td>1</td>\n",
       "    </tr>\n",
       "    <tr>\n",
       "      <th>36456</th>\n",
       "      <td>5150337</td>\n",
       "      <td>M</td>\n",
       "      <td>N</td>\n",
       "      <td>Y</td>\n",
       "      <td>0</td>\n",
       "      <td>112500.0</td>\n",
       "      <td>Working</td>\n",
       "      <td>Secondary / secondary special</td>\n",
       "      <td>Single / not married</td>\n",
       "      <td>Rented apartment</td>\n",
       "      <td>-9188</td>\n",
       "      <td>-1193</td>\n",
       "      <td>1</td>\n",
       "      <td>0</td>\n",
       "      <td>0</td>\n",
       "      <td>0</td>\n",
       "      <td>Laborers</td>\n",
       "      <td>1.0</td>\n",
       "      <td>1</td>\n",
       "    </tr>\n",
       "  </tbody>\n",
       "</table>\n",
       "<p>36457 rows × 19 columns</p>\n",
       "</div>"
      ],
      "text/plain": [
       "            ID CODE_GENDER FLAG_OWN_CAR FLAG_OWN_REALTY  CNT_CHILDREN  \\\n",
       "0      5008804           M            Y               Y             0   \n",
       "1      5008805           M            Y               Y             0   \n",
       "2      5008806           M            Y               Y             0   \n",
       "3      5008808           F            N               Y             0   \n",
       "4      5008809           F            N               Y             0   \n",
       "...        ...         ...          ...             ...           ...   \n",
       "36452  5149828           M            Y               Y             0   \n",
       "36453  5149834           F            N               Y             0   \n",
       "36454  5149838           F            N               Y             0   \n",
       "36455  5150049           F            N               Y             0   \n",
       "36456  5150337           M            N               Y             0   \n",
       "\n",
       "       AMT_INCOME_TOTAL      NAME_INCOME_TYPE            NAME_EDUCATION_TYPE  \\\n",
       "0              427500.0               Working               Higher education   \n",
       "1              427500.0               Working               Higher education   \n",
       "2              112500.0               Working  Secondary / secondary special   \n",
       "3              270000.0  Commercial associate  Secondary / secondary special   \n",
       "4              270000.0  Commercial associate  Secondary / secondary special   \n",
       "...                 ...                   ...                            ...   \n",
       "36452          315000.0               Working  Secondary / secondary special   \n",
       "36453          157500.0  Commercial associate               Higher education   \n",
       "36454          157500.0             Pensioner               Higher education   \n",
       "36455          283500.0               Working  Secondary / secondary special   \n",
       "36456          112500.0               Working  Secondary / secondary special   \n",
       "\n",
       "         NAME_FAMILY_STATUS  NAME_HOUSING_TYPE  DAYS_BIRTH  DAYS_EMPLOYED  \\\n",
       "0            Civil marriage   Rented apartment      -12005          -4542   \n",
       "1            Civil marriage   Rented apartment      -12005          -4542   \n",
       "2                   Married  House / apartment      -21474          -1134   \n",
       "3      Single / not married  House / apartment      -19110          -3051   \n",
       "4      Single / not married  House / apartment      -19110          -3051   \n",
       "...                     ...                ...         ...            ...   \n",
       "36452               Married  House / apartment      -17348          -2420   \n",
       "36453               Married  House / apartment      -12387          -1325   \n",
       "36454               Married  House / apartment      -12387          -1325   \n",
       "36455               Married  House / apartment      -17958           -655   \n",
       "36456  Single / not married   Rented apartment       -9188          -1193   \n",
       "\n",
       "       FLAG_MOBIL  FLAG_WORK_PHONE  FLAG_PHONE  FLAG_EMAIL OCCUPATION_TYPE  \\\n",
       "0               1                1           0           0         Unknown   \n",
       "1               1                1           0           0         Unknown   \n",
       "2               1                0           0           0  Security staff   \n",
       "3               1                0           1           1     Sales staff   \n",
       "4               1                0           1           1     Sales staff   \n",
       "...           ...              ...         ...         ...             ...   \n",
       "36452           1                0           0           0        Managers   \n",
       "36453           1                0           1           1  Medicine staff   \n",
       "36454           1                0           1           1  Medicine staff   \n",
       "36455           1                0           0           0     Sales staff   \n",
       "36456           1                0           0           0        Laborers   \n",
       "\n",
       "       CNT_FAM_MEMBERS  Label  \n",
       "0                  2.0      1  \n",
       "1                  2.0      1  \n",
       "2                  2.0      1  \n",
       "3                  1.0      1  \n",
       "4                  1.0      1  \n",
       "...                ...    ...  \n",
       "36452              2.0      1  \n",
       "36453              2.0      0  \n",
       "36454              2.0      0  \n",
       "36455              2.0      1  \n",
       "36456              1.0      1  \n",
       "\n",
       "[36457 rows x 19 columns]"
      ]
     },
     "execution_count": 23,
     "metadata": {},
     "output_type": "execute_result"
    }
   ],
   "source": [
    "data = pd.merge(application_record_df, max_goods_bads, how='inner', on='ID')\n",
    "data"
   ]
  },
  {
   "cell_type": "markdown",
   "id": "035dd4a6",
   "metadata": {
    "papermill": {
     "duration": 0.017485,
     "end_time": "2024-12-05T16:24:58.308655",
     "exception": false,
     "start_time": "2024-12-05T16:24:58.291170",
     "status": "completed"
    },
    "tags": []
   },
   "source": [
    "# **Preprocessing**"
   ]
  },
  {
   "cell_type": "markdown",
   "id": "d28753b4",
   "metadata": {
    "papermill": {
     "duration": 0.016739,
     "end_time": "2024-12-05T16:24:58.342400",
     "exception": false,
     "start_time": "2024-12-05T16:24:58.325661",
     "status": "completed"
    },
    "tags": []
   },
   "source": [
    "## **Feature Selection**"
   ]
  },
  {
   "cell_type": "code",
   "execution_count": 24,
   "id": "904493d7",
   "metadata": {
    "execution": {
     "iopub.execute_input": "2024-12-05T16:24:58.378943Z",
     "iopub.status.busy": "2024-12-05T16:24:58.378556Z",
     "iopub.status.idle": "2024-12-05T16:24:58.402277Z",
     "shell.execute_reply": "2024-12-05T16:24:58.401093Z"
    },
    "papermill": {
     "duration": 0.044785,
     "end_time": "2024-12-05T16:24:58.404517",
     "exception": false,
     "start_time": "2024-12-05T16:24:58.359732",
     "status": "completed"
    },
    "tags": []
   },
   "outputs": [
    {
     "data": {
      "text/html": [
       "<div>\n",
       "<style scoped>\n",
       "    .dataframe tbody tr th:only-of-type {\n",
       "        vertical-align: middle;\n",
       "    }\n",
       "\n",
       "    .dataframe tbody tr th {\n",
       "        vertical-align: top;\n",
       "    }\n",
       "\n",
       "    .dataframe thead th {\n",
       "        text-align: right;\n",
       "    }\n",
       "</style>\n",
       "<table border=\"1\" class=\"dataframe\">\n",
       "  <thead>\n",
       "    <tr style=\"text-align: right;\">\n",
       "      <th></th>\n",
       "      <th>ID</th>\n",
       "      <th>CODE_GENDER</th>\n",
       "      <th>FLAG_OWN_CAR</th>\n",
       "      <th>FLAG_OWN_REALTY</th>\n",
       "      <th>CNT_CHILDREN</th>\n",
       "      <th>AMT_INCOME_TOTAL</th>\n",
       "      <th>NAME_INCOME_TYPE</th>\n",
       "      <th>NAME_EDUCATION_TYPE</th>\n",
       "      <th>NAME_FAMILY_STATUS</th>\n",
       "      <th>NAME_HOUSING_TYPE</th>\n",
       "      <th>DAYS_BIRTH</th>\n",
       "      <th>DAYS_EMPLOYED</th>\n",
       "      <th>FLAG_MOBIL</th>\n",
       "      <th>FLAG_WORK_PHONE</th>\n",
       "      <th>FLAG_PHONE</th>\n",
       "      <th>FLAG_EMAIL</th>\n",
       "      <th>OCCUPATION_TYPE</th>\n",
       "      <th>CNT_FAM_MEMBERS</th>\n",
       "    </tr>\n",
       "  </thead>\n",
       "  <tbody>\n",
       "    <tr>\n",
       "      <th>0</th>\n",
       "      <td>5008804</td>\n",
       "      <td>M</td>\n",
       "      <td>Y</td>\n",
       "      <td>Y</td>\n",
       "      <td>0</td>\n",
       "      <td>427500.0</td>\n",
       "      <td>Working</td>\n",
       "      <td>Higher education</td>\n",
       "      <td>Civil marriage</td>\n",
       "      <td>Rented apartment</td>\n",
       "      <td>-12005</td>\n",
       "      <td>-4542</td>\n",
       "      <td>1</td>\n",
       "      <td>1</td>\n",
       "      <td>0</td>\n",
       "      <td>0</td>\n",
       "      <td>Unknown</td>\n",
       "      <td>2.0</td>\n",
       "    </tr>\n",
       "    <tr>\n",
       "      <th>1</th>\n",
       "      <td>5008805</td>\n",
       "      <td>M</td>\n",
       "      <td>Y</td>\n",
       "      <td>Y</td>\n",
       "      <td>0</td>\n",
       "      <td>427500.0</td>\n",
       "      <td>Working</td>\n",
       "      <td>Higher education</td>\n",
       "      <td>Civil marriage</td>\n",
       "      <td>Rented apartment</td>\n",
       "      <td>-12005</td>\n",
       "      <td>-4542</td>\n",
       "      <td>1</td>\n",
       "      <td>1</td>\n",
       "      <td>0</td>\n",
       "      <td>0</td>\n",
       "      <td>Unknown</td>\n",
       "      <td>2.0</td>\n",
       "    </tr>\n",
       "    <tr>\n",
       "      <th>2</th>\n",
       "      <td>5008806</td>\n",
       "      <td>M</td>\n",
       "      <td>Y</td>\n",
       "      <td>Y</td>\n",
       "      <td>0</td>\n",
       "      <td>112500.0</td>\n",
       "      <td>Working</td>\n",
       "      <td>Secondary / secondary special</td>\n",
       "      <td>Married</td>\n",
       "      <td>House / apartment</td>\n",
       "      <td>-21474</td>\n",
       "      <td>-1134</td>\n",
       "      <td>1</td>\n",
       "      <td>0</td>\n",
       "      <td>0</td>\n",
       "      <td>0</td>\n",
       "      <td>Security staff</td>\n",
       "      <td>2.0</td>\n",
       "    </tr>\n",
       "    <tr>\n",
       "      <th>3</th>\n",
       "      <td>5008808</td>\n",
       "      <td>F</td>\n",
       "      <td>N</td>\n",
       "      <td>Y</td>\n",
       "      <td>0</td>\n",
       "      <td>270000.0</td>\n",
       "      <td>Commercial associate</td>\n",
       "      <td>Secondary / secondary special</td>\n",
       "      <td>Single / not married</td>\n",
       "      <td>House / apartment</td>\n",
       "      <td>-19110</td>\n",
       "      <td>-3051</td>\n",
       "      <td>1</td>\n",
       "      <td>0</td>\n",
       "      <td>1</td>\n",
       "      <td>1</td>\n",
       "      <td>Sales staff</td>\n",
       "      <td>1.0</td>\n",
       "    </tr>\n",
       "    <tr>\n",
       "      <th>4</th>\n",
       "      <td>5008809</td>\n",
       "      <td>F</td>\n",
       "      <td>N</td>\n",
       "      <td>Y</td>\n",
       "      <td>0</td>\n",
       "      <td>270000.0</td>\n",
       "      <td>Commercial associate</td>\n",
       "      <td>Secondary / secondary special</td>\n",
       "      <td>Single / not married</td>\n",
       "      <td>House / apartment</td>\n",
       "      <td>-19110</td>\n",
       "      <td>-3051</td>\n",
       "      <td>1</td>\n",
       "      <td>0</td>\n",
       "      <td>1</td>\n",
       "      <td>1</td>\n",
       "      <td>Sales staff</td>\n",
       "      <td>1.0</td>\n",
       "    </tr>\n",
       "    <tr>\n",
       "      <th>...</th>\n",
       "      <td>...</td>\n",
       "      <td>...</td>\n",
       "      <td>...</td>\n",
       "      <td>...</td>\n",
       "      <td>...</td>\n",
       "      <td>...</td>\n",
       "      <td>...</td>\n",
       "      <td>...</td>\n",
       "      <td>...</td>\n",
       "      <td>...</td>\n",
       "      <td>...</td>\n",
       "      <td>...</td>\n",
       "      <td>...</td>\n",
       "      <td>...</td>\n",
       "      <td>...</td>\n",
       "      <td>...</td>\n",
       "      <td>...</td>\n",
       "      <td>...</td>\n",
       "    </tr>\n",
       "    <tr>\n",
       "      <th>36452</th>\n",
       "      <td>5149828</td>\n",
       "      <td>M</td>\n",
       "      <td>Y</td>\n",
       "      <td>Y</td>\n",
       "      <td>0</td>\n",
       "      <td>315000.0</td>\n",
       "      <td>Working</td>\n",
       "      <td>Secondary / secondary special</td>\n",
       "      <td>Married</td>\n",
       "      <td>House / apartment</td>\n",
       "      <td>-17348</td>\n",
       "      <td>-2420</td>\n",
       "      <td>1</td>\n",
       "      <td>0</td>\n",
       "      <td>0</td>\n",
       "      <td>0</td>\n",
       "      <td>Managers</td>\n",
       "      <td>2.0</td>\n",
       "    </tr>\n",
       "    <tr>\n",
       "      <th>36453</th>\n",
       "      <td>5149834</td>\n",
       "      <td>F</td>\n",
       "      <td>N</td>\n",
       "      <td>Y</td>\n",
       "      <td>0</td>\n",
       "      <td>157500.0</td>\n",
       "      <td>Commercial associate</td>\n",
       "      <td>Higher education</td>\n",
       "      <td>Married</td>\n",
       "      <td>House / apartment</td>\n",
       "      <td>-12387</td>\n",
       "      <td>-1325</td>\n",
       "      <td>1</td>\n",
       "      <td>0</td>\n",
       "      <td>1</td>\n",
       "      <td>1</td>\n",
       "      <td>Medicine staff</td>\n",
       "      <td>2.0</td>\n",
       "    </tr>\n",
       "    <tr>\n",
       "      <th>36454</th>\n",
       "      <td>5149838</td>\n",
       "      <td>F</td>\n",
       "      <td>N</td>\n",
       "      <td>Y</td>\n",
       "      <td>0</td>\n",
       "      <td>157500.0</td>\n",
       "      <td>Pensioner</td>\n",
       "      <td>Higher education</td>\n",
       "      <td>Married</td>\n",
       "      <td>House / apartment</td>\n",
       "      <td>-12387</td>\n",
       "      <td>-1325</td>\n",
       "      <td>1</td>\n",
       "      <td>0</td>\n",
       "      <td>1</td>\n",
       "      <td>1</td>\n",
       "      <td>Medicine staff</td>\n",
       "      <td>2.0</td>\n",
       "    </tr>\n",
       "    <tr>\n",
       "      <th>36455</th>\n",
       "      <td>5150049</td>\n",
       "      <td>F</td>\n",
       "      <td>N</td>\n",
       "      <td>Y</td>\n",
       "      <td>0</td>\n",
       "      <td>283500.0</td>\n",
       "      <td>Working</td>\n",
       "      <td>Secondary / secondary special</td>\n",
       "      <td>Married</td>\n",
       "      <td>House / apartment</td>\n",
       "      <td>-17958</td>\n",
       "      <td>-655</td>\n",
       "      <td>1</td>\n",
       "      <td>0</td>\n",
       "      <td>0</td>\n",
       "      <td>0</td>\n",
       "      <td>Sales staff</td>\n",
       "      <td>2.0</td>\n",
       "    </tr>\n",
       "    <tr>\n",
       "      <th>36456</th>\n",
       "      <td>5150337</td>\n",
       "      <td>M</td>\n",
       "      <td>N</td>\n",
       "      <td>Y</td>\n",
       "      <td>0</td>\n",
       "      <td>112500.0</td>\n",
       "      <td>Working</td>\n",
       "      <td>Secondary / secondary special</td>\n",
       "      <td>Single / not married</td>\n",
       "      <td>Rented apartment</td>\n",
       "      <td>-9188</td>\n",
       "      <td>-1193</td>\n",
       "      <td>1</td>\n",
       "      <td>0</td>\n",
       "      <td>0</td>\n",
       "      <td>0</td>\n",
       "      <td>Laborers</td>\n",
       "      <td>1.0</td>\n",
       "    </tr>\n",
       "  </tbody>\n",
       "</table>\n",
       "<p>36457 rows × 18 columns</p>\n",
       "</div>"
      ],
      "text/plain": [
       "            ID CODE_GENDER FLAG_OWN_CAR FLAG_OWN_REALTY  CNT_CHILDREN  \\\n",
       "0      5008804           M            Y               Y             0   \n",
       "1      5008805           M            Y               Y             0   \n",
       "2      5008806           M            Y               Y             0   \n",
       "3      5008808           F            N               Y             0   \n",
       "4      5008809           F            N               Y             0   \n",
       "...        ...         ...          ...             ...           ...   \n",
       "36452  5149828           M            Y               Y             0   \n",
       "36453  5149834           F            N               Y             0   \n",
       "36454  5149838           F            N               Y             0   \n",
       "36455  5150049           F            N               Y             0   \n",
       "36456  5150337           M            N               Y             0   \n",
       "\n",
       "       AMT_INCOME_TOTAL      NAME_INCOME_TYPE            NAME_EDUCATION_TYPE  \\\n",
       "0              427500.0               Working               Higher education   \n",
       "1              427500.0               Working               Higher education   \n",
       "2              112500.0               Working  Secondary / secondary special   \n",
       "3              270000.0  Commercial associate  Secondary / secondary special   \n",
       "4              270000.0  Commercial associate  Secondary / secondary special   \n",
       "...                 ...                   ...                            ...   \n",
       "36452          315000.0               Working  Secondary / secondary special   \n",
       "36453          157500.0  Commercial associate               Higher education   \n",
       "36454          157500.0             Pensioner               Higher education   \n",
       "36455          283500.0               Working  Secondary / secondary special   \n",
       "36456          112500.0               Working  Secondary / secondary special   \n",
       "\n",
       "         NAME_FAMILY_STATUS  NAME_HOUSING_TYPE  DAYS_BIRTH  DAYS_EMPLOYED  \\\n",
       "0            Civil marriage   Rented apartment      -12005          -4542   \n",
       "1            Civil marriage   Rented apartment      -12005          -4542   \n",
       "2                   Married  House / apartment      -21474          -1134   \n",
       "3      Single / not married  House / apartment      -19110          -3051   \n",
       "4      Single / not married  House / apartment      -19110          -3051   \n",
       "...                     ...                ...         ...            ...   \n",
       "36452               Married  House / apartment      -17348          -2420   \n",
       "36453               Married  House / apartment      -12387          -1325   \n",
       "36454               Married  House / apartment      -12387          -1325   \n",
       "36455               Married  House / apartment      -17958           -655   \n",
       "36456  Single / not married   Rented apartment       -9188          -1193   \n",
       "\n",
       "       FLAG_MOBIL  FLAG_WORK_PHONE  FLAG_PHONE  FLAG_EMAIL OCCUPATION_TYPE  \\\n",
       "0               1                1           0           0         Unknown   \n",
       "1               1                1           0           0         Unknown   \n",
       "2               1                0           0           0  Security staff   \n",
       "3               1                0           1           1     Sales staff   \n",
       "4               1                0           1           1     Sales staff   \n",
       "...           ...              ...         ...         ...             ...   \n",
       "36452           1                0           0           0        Managers   \n",
       "36453           1                0           1           1  Medicine staff   \n",
       "36454           1                0           1           1  Medicine staff   \n",
       "36455           1                0           0           0     Sales staff   \n",
       "36456           1                0           0           0        Laborers   \n",
       "\n",
       "       CNT_FAM_MEMBERS  \n",
       "0                  2.0  \n",
       "1                  2.0  \n",
       "2                  2.0  \n",
       "3                  1.0  \n",
       "4                  1.0  \n",
       "...                ...  \n",
       "36452              2.0  \n",
       "36453              2.0  \n",
       "36454              2.0  \n",
       "36455              2.0  \n",
       "36456              1.0  \n",
       "\n",
       "[36457 rows x 18 columns]"
      ]
     },
     "execution_count": 24,
     "metadata": {},
     "output_type": "execute_result"
    }
   ],
   "source": [
    "X = data.drop('Label', axis=1)\n",
    "y = data['Label']\n",
    "X"
   ]
  },
  {
   "cell_type": "markdown",
   "id": "1ef0ac51",
   "metadata": {
    "papermill": {
     "duration": 0.018432,
     "end_time": "2024-12-05T16:24:58.440758",
     "exception": false,
     "start_time": "2024-12-05T16:24:58.422326",
     "status": "completed"
    },
    "tags": []
   },
   "source": [
    "### **Mutual Information**"
   ]
  },
  {
   "cell_type": "code",
   "execution_count": 25,
   "id": "e9cecaf2",
   "metadata": {
    "execution": {
     "iopub.execute_input": "2024-12-05T16:24:58.477681Z",
     "iopub.status.busy": "2024-12-05T16:24:58.477278Z",
     "iopub.status.idle": "2024-12-05T16:24:58.505399Z",
     "shell.execute_reply": "2024-12-05T16:24:58.503967Z"
    },
    "papermill": {
     "duration": 0.049904,
     "end_time": "2024-12-05T16:24:58.507830",
     "exception": false,
     "start_time": "2024-12-05T16:24:58.457926",
     "status": "completed"
    },
    "tags": []
   },
   "outputs": [
    {
     "name": "stdout",
     "output_type": "stream",
     "text": [
      "<class 'pandas.core.frame.DataFrame'>\n",
      "RangeIndex: 36457 entries, 0 to 36456\n",
      "Data columns (total 18 columns):\n",
      " #   Column               Non-Null Count  Dtype  \n",
      "---  ------               --------------  -----  \n",
      " 0   ID                   36457 non-null  int64  \n",
      " 1   CODE_GENDER          36457 non-null  object \n",
      " 2   FLAG_OWN_CAR         36457 non-null  object \n",
      " 3   FLAG_OWN_REALTY      36457 non-null  object \n",
      " 4   CNT_CHILDREN         36457 non-null  int64  \n",
      " 5   AMT_INCOME_TOTAL     36457 non-null  float64\n",
      " 6   NAME_INCOME_TYPE     36457 non-null  object \n",
      " 7   NAME_EDUCATION_TYPE  36457 non-null  object \n",
      " 8   NAME_FAMILY_STATUS   36457 non-null  object \n",
      " 9   NAME_HOUSING_TYPE    36457 non-null  object \n",
      " 10  DAYS_BIRTH           36457 non-null  int64  \n",
      " 11  DAYS_EMPLOYED        36457 non-null  int64  \n",
      " 12  FLAG_MOBIL           36457 non-null  int64  \n",
      " 13  FLAG_WORK_PHONE      36457 non-null  int64  \n",
      " 14  FLAG_PHONE           36457 non-null  int64  \n",
      " 15  FLAG_EMAIL           36457 non-null  int64  \n",
      " 16  OCCUPATION_TYPE      36457 non-null  object \n",
      " 17  CNT_FAM_MEMBERS      36457 non-null  float64\n",
      "dtypes: float64(2), int64(8), object(8)\n",
      "memory usage: 5.0+ MB\n"
     ]
    }
   ],
   "source": [
    "X.info()"
   ]
  },
  {
   "cell_type": "code",
   "execution_count": 26,
   "id": "1f65637d",
   "metadata": {
    "execution": {
     "iopub.execute_input": "2024-12-05T16:24:58.549371Z",
     "iopub.status.busy": "2024-12-05T16:24:58.548972Z",
     "iopub.status.idle": "2024-12-05T16:24:58.581764Z",
     "shell.execute_reply": "2024-12-05T16:24:58.580522Z"
    },
    "papermill": {
     "duration": 0.057217,
     "end_time": "2024-12-05T16:24:58.584361",
     "exception": false,
     "start_time": "2024-12-05T16:24:58.527144",
     "status": "completed"
    },
    "tags": []
   },
   "outputs": [],
   "source": [
    "X_info = X.copy()\n",
    "\n",
    "# Label encoding for categoricals\n",
    "for colname in X_info.select_dtypes(\"object\"):\n",
    "    X_info[colname], _ = X_info[colname].factorize()\n",
    "\n",
    "# Converting floats to ints\n",
    "for colname in X_info.select_dtypes(\"float\"):\n",
    "    X_info[colname] = X_info[colname].astype(int)\n",
    "\n",
    "# Converting bools to ints\n",
    "#for colname in X_info.select_dtypes(\"bool\"):\n",
    "#    X_info[colname] = X_info[colname].astype(int)\n",
    "\n",
    "# All discrete features should now have integer dtypes\n",
    "discrete_features = X_info.dtypes != int"
   ]
  },
  {
   "cell_type": "code",
   "execution_count": 27,
   "id": "e790058c",
   "metadata": {
    "execution": {
     "iopub.execute_input": "2024-12-05T16:24:58.622756Z",
     "iopub.status.busy": "2024-12-05T16:24:58.621503Z",
     "iopub.status.idle": "2024-12-05T16:25:04.179073Z",
     "shell.execute_reply": "2024-12-05T16:25:04.177858Z"
    },
    "papermill": {
     "duration": 5.579314,
     "end_time": "2024-12-05T16:25:04.181315",
     "exception": false,
     "start_time": "2024-12-05T16:24:58.602001",
     "status": "completed"
    },
    "tags": []
   },
   "outputs": [
    {
     "data": {
      "text/plain": [
       "DAYS_BIRTH             0.004512\n",
       "FLAG_MOBIL             0.003971\n",
       "NAME_HOUSING_TYPE      0.003634\n",
       "AMT_INCOME_TOTAL       0.002958\n",
       "CNT_FAM_MEMBERS        0.002582\n",
       "FLAG_OWN_REALTY        0.001695\n",
       "NAME_INCOME_TYPE       0.000822\n",
       "FLAG_WORK_PHONE        0.000499\n",
       "NAME_FAMILY_STATUS     0.000160\n",
       "CNT_CHILDREN           0.000000\n",
       "NAME_EDUCATION_TYPE    0.000000\n",
       "CODE_GENDER            0.000000\n",
       "DAYS_EMPLOYED          0.000000\n",
       "FLAG_OWN_CAR           0.000000\n",
       "FLAG_PHONE             0.000000\n",
       "FLAG_EMAIL             0.000000\n",
       "OCCUPATION_TYPE        0.000000\n",
       "ID                     0.000000\n",
       "Name: MI Scores, dtype: float64"
      ]
     },
     "execution_count": 27,
     "metadata": {},
     "output_type": "execute_result"
    }
   ],
   "source": [
    "from sklearn.feature_selection import mutual_info_regression\n",
    "\n",
    "def make_mi_scores(X, y, discrete_features):\n",
    "    mi_scores = mutual_info_regression(X, y, discrete_features=discrete_features)\n",
    "    mi_scores = pd.Series(mi_scores, name=\"MI Scores\", index=X.columns)\n",
    "    mi_scores = mi_scores.sort_values(ascending=False)\n",
    "    return mi_scores\n",
    "\n",
    "mi_scores = make_mi_scores(X_info, y, discrete_features)\n",
    "mi_scores"
   ]
  },
  {
   "cell_type": "code",
   "execution_count": 28,
   "id": "b685bcb8",
   "metadata": {
    "execution": {
     "iopub.execute_input": "2024-12-05T16:25:04.219739Z",
     "iopub.status.busy": "2024-12-05T16:25:04.219295Z",
     "iopub.status.idle": "2024-12-05T16:25:04.653043Z",
     "shell.execute_reply": "2024-12-05T16:25:04.651688Z"
    },
    "papermill": {
     "duration": 0.455565,
     "end_time": "2024-12-05T16:25:04.655476",
     "exception": false,
     "start_time": "2024-12-05T16:25:04.199911",
     "status": "completed"
    },
    "tags": []
   },
   "outputs": [
    {
     "data": {
      "image/png": "[encoded data removed]",
      "text/plain": [
       "<Figure size 1000x1500 with 1 Axes>"
      ]
     },
     "metadata": {},
     "output_type": "display_data"
    }
   ],
   "source": [
    "def plot_mi_scores(scores):\n",
    "    scores = scores.sort_values(ascending=True)\n",
    "    width = np.arange(len(scores))\n",
    "    ticks = list(scores.index)\n",
    "    plt.barh(width, scores)\n",
    "    plt.yticks(width, ticks)\n",
    "    plt.title(\"Mutual Information Scores\")\n",
    "\n",
    "\n",
    "plt.figure(dpi=100, figsize=(10, 15))\n",
    "plot_mi_scores(mi_scores)"
   ]
  },
  {
   "cell_type": "code",
   "execution_count": 29,
   "id": "2abf0c39",
   "metadata": {
    "execution": {
     "iopub.execute_input": "2024-12-05T16:25:04.697020Z",
     "iopub.status.busy": "2024-12-05T16:25:04.695678Z",
     "iopub.status.idle": "2024-12-05T16:25:05.272596Z",
     "shell.execute_reply": "2024-12-05T16:25:05.271167Z"
    },
    "papermill": {
     "duration": 0.601111,
     "end_time": "2024-12-05T16:25:05.275539",
     "exception": false,
     "start_time": "2024-12-05T16:25:04.674428",
     "status": "completed"
    },
    "tags": []
   },
   "outputs": [
    {
     "data": {
      "image/png": "[encoded data removed]",
      "text/plain": [
       "<Figure size 500x500 with 1 Axes>"
      ]
     },
     "metadata": {},
     "output_type": "display_data"
    }
   ],
   "source": [
    "sns.relplot(x=\"AMT_INCOME_TOTAL\", y=\"Label\", data=data);"
   ]
  },
  {
   "cell_type": "code",
   "execution_count": 30,
   "id": "7c94e974",
   "metadata": {
    "execution": {
     "iopub.execute_input": "2024-12-05T16:25:05.317564Z",
     "iopub.status.busy": "2024-12-05T16:25:05.317181Z",
     "iopub.status.idle": "2024-12-05T16:25:09.342892Z",
     "shell.execute_reply": "2024-12-05T16:25:09.341656Z"
    },
    "papermill": {
     "duration": 4.050687,
     "end_time": "2024-12-05T16:25:09.345500",
     "exception": false,
     "start_time": "2024-12-05T16:25:05.294813",
     "status": "completed"
    },
    "tags": []
   },
   "outputs": [
    {
     "data": {
      "image/png": "[encoded data removed]",
      "text/plain": [
       "<Figure size 618.111x500 with 1 Axes>"
      ]
     },
     "metadata": {},
     "output_type": "display_data"
    }
   ],
   "source": [
    "sns.lmplot(x=\"DAYS_EMPLOYED\", y=\"Label\", hue=\"CNT_CHILDREN\", data=data);"
   ]
  },
  {
   "cell_type": "code",
   "execution_count": 31,
   "id": "6a367c19",
   "metadata": {
    "execution": {
     "iopub.execute_input": "2024-12-05T16:25:09.388111Z",
     "iopub.status.busy": "2024-12-05T16:25:09.387697Z",
     "iopub.status.idle": "2024-12-05T16:25:11.532094Z",
     "shell.execute_reply": "2024-12-05T16:25:11.530882Z"
    },
    "papermill": {
     "duration": 2.168712,
     "end_time": "2024-12-05T16:25:11.534376",
     "exception": false,
     "start_time": "2024-12-05T16:25:09.365664",
     "status": "completed"
    },
    "tags": []
   },
   "outputs": [
    {
     "data": {
      "text/plain": [
       "<Axes: xlabel='OCCUPATION_TYPE', ylabel='Label'>"
      ]
     },
     "execution_count": 31,
     "metadata": {},
     "output_type": "execute_result"
    },
    {
     "data": {
      "image/png": "[encoded data removed]",
      "text/plain": [
       "<Figure size 1750x500 with 1 Axes>"
      ]
     },
     "metadata": {},
     "output_type": "display_data"
    }
   ],
   "source": [
    "#sns.lmplot(x=\"CODE_GENDER\", y=y, hue=\"FLAG_OWN_REALTY\", data=X_info);\n",
    "plt.figure(dpi=50, figsize=(35, 10))\n",
    "sns.scatterplot(x=data['OCCUPATION_TYPE'], y=data['Label'], hue=data['CODE_GENDER'])"
   ]
  },
  {
   "cell_type": "markdown",
   "id": "8fd1cb7c",
   "metadata": {
    "papermill": {
     "duration": 0.019394,
     "end_time": "2024-12-05T16:25:11.573770",
     "exception": false,
     "start_time": "2024-12-05T16:25:11.554376",
     "status": "completed"
    },
    "tags": []
   },
   "source": [
    "## **Covert Categorical Data To Numerical**"
   ]
  },
  {
   "cell_type": "code",
   "execution_count": 32,
   "id": "b512ff6f",
   "metadata": {
    "execution": {
     "iopub.execute_input": "2024-12-05T16:25:11.614510Z",
     "iopub.status.busy": "2024-12-05T16:25:11.614102Z",
     "iopub.status.idle": "2024-12-05T16:25:11.675914Z",
     "shell.execute_reply": "2024-12-05T16:25:11.674361Z"
    },
    "papermill": {
     "duration": 0.085222,
     "end_time": "2024-12-05T16:25:11.678364",
     "exception": false,
     "start_time": "2024-12-05T16:25:11.593142",
     "status": "completed"
    },
    "tags": []
   },
   "outputs": [
    {
     "data": {
      "text/html": [
       "<div>\n",
       "<style scoped>\n",
       "    .dataframe tbody tr th:only-of-type {\n",
       "        vertical-align: middle;\n",
       "    }\n",
       "\n",
       "    .dataframe tbody tr th {\n",
       "        vertical-align: top;\n",
       "    }\n",
       "\n",
       "    .dataframe thead th {\n",
       "        text-align: right;\n",
       "    }\n",
       "</style>\n",
       "<table border=\"1\" class=\"dataframe\">\n",
       "  <thead>\n",
       "    <tr style=\"text-align: right;\">\n",
       "      <th></th>\n",
       "      <th>ID</th>\n",
       "      <th>CNT_CHILDREN</th>\n",
       "      <th>AMT_INCOME_TOTAL</th>\n",
       "      <th>DAYS_BIRTH</th>\n",
       "      <th>DAYS_EMPLOYED</th>\n",
       "      <th>FLAG_MOBIL</th>\n",
       "      <th>FLAG_WORK_PHONE</th>\n",
       "      <th>FLAG_PHONE</th>\n",
       "      <th>FLAG_EMAIL</th>\n",
       "      <th>CNT_FAM_MEMBERS</th>\n",
       "      <th>...</th>\n",
       "      <th>OCCUPATION_TYPE_Low-skill Laborers</th>\n",
       "      <th>OCCUPATION_TYPE_Managers</th>\n",
       "      <th>OCCUPATION_TYPE_Medicine staff</th>\n",
       "      <th>OCCUPATION_TYPE_Private service staff</th>\n",
       "      <th>OCCUPATION_TYPE_Realty agents</th>\n",
       "      <th>OCCUPATION_TYPE_Sales staff</th>\n",
       "      <th>OCCUPATION_TYPE_Secretaries</th>\n",
       "      <th>OCCUPATION_TYPE_Security staff</th>\n",
       "      <th>OCCUPATION_TYPE_Unknown</th>\n",
       "      <th>OCCUPATION_TYPE_Waiters/barmen staff</th>\n",
       "    </tr>\n",
       "  </thead>\n",
       "  <tbody>\n",
       "    <tr>\n",
       "      <th>0</th>\n",
       "      <td>5008804</td>\n",
       "      <td>0</td>\n",
       "      <td>427500.0</td>\n",
       "      <td>-12005</td>\n",
       "      <td>-4542</td>\n",
       "      <td>1</td>\n",
       "      <td>1</td>\n",
       "      <td>0</td>\n",
       "      <td>0</td>\n",
       "      <td>2.0</td>\n",
       "      <td>...</td>\n",
       "      <td>False</td>\n",
       "      <td>False</td>\n",
       "      <td>False</td>\n",
       "      <td>False</td>\n",
       "      <td>False</td>\n",
       "      <td>False</td>\n",
       "      <td>False</td>\n",
       "      <td>False</td>\n",
       "      <td>True</td>\n",
       "      <td>False</td>\n",
       "    </tr>\n",
       "    <tr>\n",
       "      <th>1</th>\n",
       "      <td>5008805</td>\n",
       "      <td>0</td>\n",
       "      <td>427500.0</td>\n",
       "      <td>-12005</td>\n",
       "      <td>-4542</td>\n",
       "      <td>1</td>\n",
       "      <td>1</td>\n",
       "      <td>0</td>\n",
       "      <td>0</td>\n",
       "      <td>2.0</td>\n",
       "      <td>...</td>\n",
       "      <td>False</td>\n",
       "      <td>False</td>\n",
       "      <td>False</td>\n",
       "      <td>False</td>\n",
       "      <td>False</td>\n",
       "      <td>False</td>\n",
       "      <td>False</td>\n",
       "      <td>False</td>\n",
       "      <td>True</td>\n",
       "      <td>False</td>\n",
       "    </tr>\n",
       "    <tr>\n",
       "      <th>2</th>\n",
       "      <td>5008806</td>\n",
       "      <td>0</td>\n",
       "      <td>112500.0</td>\n",
       "      <td>-21474</td>\n",
       "      <td>-1134</td>\n",
       "      <td>1</td>\n",
       "      <td>0</td>\n",
       "      <td>0</td>\n",
       "      <td>0</td>\n",
       "      <td>2.0</td>\n",
       "      <td>...</td>\n",
       "      <td>False</td>\n",
       "      <td>False</td>\n",
       "      <td>False</td>\n",
       "      <td>False</td>\n",
       "      <td>False</td>\n",
       "      <td>False</td>\n",
       "      <td>False</td>\n",
       "      <td>True</td>\n",
       "      <td>False</td>\n",
       "      <td>False</td>\n",
       "    </tr>\n",
       "    <tr>\n",
       "      <th>3</th>\n",
       "      <td>5008808</td>\n",
       "      <td>0</td>\n",
       "      <td>270000.0</td>\n",
       "      <td>-19110</td>\n",
       "      <td>-3051</td>\n",
       "      <td>1</td>\n",
       "      <td>0</td>\n",
       "      <td>1</td>\n",
       "      <td>1</td>\n",
       "      <td>1.0</td>\n",
       "      <td>...</td>\n",
       "      <td>False</td>\n",
       "      <td>False</td>\n",
       "      <td>False</td>\n",
       "      <td>False</td>\n",
       "      <td>False</td>\n",
       "      <td>True</td>\n",
       "      <td>False</td>\n",
       "      <td>False</td>\n",
       "      <td>False</td>\n",
       "      <td>False</td>\n",
       "    </tr>\n",
       "    <tr>\n",
       "      <th>4</th>\n",
       "      <td>5008809</td>\n",
       "      <td>0</td>\n",
       "      <td>270000.0</td>\n",
       "      <td>-19110</td>\n",
       "      <td>-3051</td>\n",
       "      <td>1</td>\n",
       "      <td>0</td>\n",
       "      <td>1</td>\n",
       "      <td>1</td>\n",
       "      <td>1.0</td>\n",
       "      <td>...</td>\n",
       "      <td>False</td>\n",
       "      <td>False</td>\n",
       "      <td>False</td>\n",
       "      <td>False</td>\n",
       "      <td>False</td>\n",
       "      <td>True</td>\n",
       "      <td>False</td>\n",
       "      <td>False</td>\n",
       "      <td>False</td>\n",
       "      <td>False</td>\n",
       "    </tr>\n",
       "    <tr>\n",
       "      <th>...</th>\n",
       "      <td>...</td>\n",
       "      <td>...</td>\n",
       "      <td>...</td>\n",
       "      <td>...</td>\n",
       "      <td>...</td>\n",
       "      <td>...</td>\n",
       "      <td>...</td>\n",
       "      <td>...</td>\n",
       "      <td>...</td>\n",
       "      <td>...</td>\n",
       "      <td>...</td>\n",
       "      <td>...</td>\n",
       "      <td>...</td>\n",
       "      <td>...</td>\n",
       "      <td>...</td>\n",
       "      <td>...</td>\n",
       "      <td>...</td>\n",
       "      <td>...</td>\n",
       "      <td>...</td>\n",
       "      <td>...</td>\n",
       "      <td>...</td>\n",
       "    </tr>\n",
       "    <tr>\n",
       "      <th>36452</th>\n",
       "      <td>5149828</td>\n",
       "      <td>0</td>\n",
       "      <td>315000.0</td>\n",
       "      <td>-17348</td>\n",
       "      <td>-2420</td>\n",
       "      <td>1</td>\n",
       "      <td>0</td>\n",
       "      <td>0</td>\n",
       "      <td>0</td>\n",
       "      <td>2.0</td>\n",
       "      <td>...</td>\n",
       "      <td>False</td>\n",
       "      <td>True</td>\n",
       "      <td>False</td>\n",
       "      <td>False</td>\n",
       "      <td>False</td>\n",
       "      <td>False</td>\n",
       "      <td>False</td>\n",
       "      <td>False</td>\n",
       "      <td>False</td>\n",
       "      <td>False</td>\n",
       "    </tr>\n",
       "    <tr>\n",
       "      <th>36453</th>\n",
       "      <td>5149834</td>\n",
       "      <td>0</td>\n",
       "      <td>157500.0</td>\n",
       "      <td>-12387</td>\n",
       "      <td>-1325</td>\n",
       "      <td>1</td>\n",
       "      <td>0</td>\n",
       "      <td>1</td>\n",
       "      <td>1</td>\n",
       "      <td>2.0</td>\n",
       "      <td>...</td>\n",
       "      <td>False</td>\n",
       "      <td>False</td>\n",
       "      <td>True</td>\n",
       "      <td>False</td>\n",
       "      <td>False</td>\n",
       "      <td>False</td>\n",
       "      <td>False</td>\n",
       "      <td>False</td>\n",
       "      <td>False</td>\n",
       "      <td>False</td>\n",
       "    </tr>\n",
       "    <tr>\n",
       "      <th>36454</th>\n",
       "      <td>5149838</td>\n",
       "      <td>0</td>\n",
       "      <td>157500.0</td>\n",
       "      <td>-12387</td>\n",
       "      <td>-1325</td>\n",
       "      <td>1</td>\n",
       "      <td>0</td>\n",
       "      <td>1</td>\n",
       "      <td>1</td>\n",
       "      <td>2.0</td>\n",
       "      <td>...</td>\n",
       "      <td>False</td>\n",
       "      <td>False</td>\n",
       "      <td>True</td>\n",
       "      <td>False</td>\n",
       "      <td>False</td>\n",
       "      <td>False</td>\n",
       "      <td>False</td>\n",
       "      <td>False</td>\n",
       "      <td>False</td>\n",
       "      <td>False</td>\n",
       "    </tr>\n",
       "    <tr>\n",
       "      <th>36455</th>\n",
       "      <td>5150049</td>\n",
       "      <td>0</td>\n",
       "      <td>283500.0</td>\n",
       "      <td>-17958</td>\n",
       "      <td>-655</td>\n",
       "      <td>1</td>\n",
       "      <td>0</td>\n",
       "      <td>0</td>\n",
       "      <td>0</td>\n",
       "      <td>2.0</td>\n",
       "      <td>...</td>\n",
       "      <td>False</td>\n",
       "      <td>False</td>\n",
       "      <td>False</td>\n",
       "      <td>False</td>\n",
       "      <td>False</td>\n",
       "      <td>True</td>\n",
       "      <td>False</td>\n",
       "      <td>False</td>\n",
       "      <td>False</td>\n",
       "      <td>False</td>\n",
       "    </tr>\n",
       "    <tr>\n",
       "      <th>36456</th>\n",
       "      <td>5150337</td>\n",
       "      <td>0</td>\n",
       "      <td>112500.0</td>\n",
       "      <td>-9188</td>\n",
       "      <td>-1193</td>\n",
       "      <td>1</td>\n",
       "      <td>0</td>\n",
       "      <td>0</td>\n",
       "      <td>0</td>\n",
       "      <td>1.0</td>\n",
       "      <td>...</td>\n",
       "      <td>False</td>\n",
       "      <td>False</td>\n",
       "      <td>False</td>\n",
       "      <td>False</td>\n",
       "      <td>False</td>\n",
       "      <td>False</td>\n",
       "      <td>False</td>\n",
       "      <td>False</td>\n",
       "      <td>False</td>\n",
       "      <td>False</td>\n",
       "    </tr>\n",
       "  </tbody>\n",
       "</table>\n",
       "<p>36457 rows × 48 columns</p>\n",
       "</div>"
      ],
      "text/plain": [
       "            ID  CNT_CHILDREN  AMT_INCOME_TOTAL  DAYS_BIRTH  DAYS_EMPLOYED  \\\n",
       "0      5008804             0          427500.0      -12005          -4542   \n",
       "1      5008805             0          427500.0      -12005          -4542   \n",
       "2      5008806             0          112500.0      -21474          -1134   \n",
       "3      5008808             0          270000.0      -19110          -3051   \n",
       "4      5008809             0          270000.0      -19110          -3051   \n",
       "...        ...           ...               ...         ...            ...   \n",
       "36452  5149828             0          315000.0      -17348          -2420   \n",
       "36453  5149834             0          157500.0      -12387          -1325   \n",
       "36454  5149838             0          157500.0      -12387          -1325   \n",
       "36455  5150049             0          283500.0      -17958           -655   \n",
       "36456  5150337             0          112500.0       -9188          -1193   \n",
       "\n",
       "       FLAG_MOBIL  FLAG_WORK_PHONE  FLAG_PHONE  FLAG_EMAIL  CNT_FAM_MEMBERS  \\\n",
       "0               1                1           0           0              2.0   \n",
       "1               1                1           0           0              2.0   \n",
       "2               1                0           0           0              2.0   \n",
       "3               1                0           1           1              1.0   \n",
       "4               1                0           1           1              1.0   \n",
       "...           ...              ...         ...         ...              ...   \n",
       "36452           1                0           0           0              2.0   \n",
       "36453           1                0           1           1              2.0   \n",
       "36454           1                0           1           1              2.0   \n",
       "36455           1                0           0           0              2.0   \n",
       "36456           1                0           0           0              1.0   \n",
       "\n",
       "       ...  OCCUPATION_TYPE_Low-skill Laborers  OCCUPATION_TYPE_Managers  \\\n",
       "0      ...                               False                     False   \n",
       "1      ...                               False                     False   \n",
       "2      ...                               False                     False   \n",
       "3      ...                               False                     False   \n",
       "4      ...                               False                     False   \n",
       "...    ...                                 ...                       ...   \n",
       "36452  ...                               False                      True   \n",
       "36453  ...                               False                     False   \n",
       "36454  ...                               False                     False   \n",
       "36455  ...                               False                     False   \n",
       "36456  ...                               False                     False   \n",
       "\n",
       "       OCCUPATION_TYPE_Medicine staff  OCCUPATION_TYPE_Private service staff  \\\n",
       "0                               False                                  False   \n",
       "1                               False                                  False   \n",
       "2                               False                                  False   \n",
       "3                               False                                  False   \n",
       "4                               False                                  False   \n",
       "...                               ...                                    ...   \n",
       "36452                           False                                  False   \n",
       "36453                            True                                  False   \n",
       "36454                            True                                  False   \n",
       "36455                           False                                  False   \n",
       "36456                           False                                  False   \n",
       "\n",
       "       OCCUPATION_TYPE_Realty agents  OCCUPATION_TYPE_Sales staff  \\\n",
       "0                              False                        False   \n",
       "1                              False                        False   \n",
       "2                              False                        False   \n",
       "3                              False                         True   \n",
       "4                              False                         True   \n",
       "...                              ...                          ...   \n",
       "36452                          False                        False   \n",
       "36453                          False                        False   \n",
       "36454                          False                        False   \n",
       "36455                          False                         True   \n",
       "36456                          False                        False   \n",
       "\n",
       "       OCCUPATION_TYPE_Secretaries  OCCUPATION_TYPE_Security staff  \\\n",
       "0                            False                           False   \n",
       "1                            False                           False   \n",
       "2                            False                            True   \n",
       "3                            False                           False   \n",
       "4                            False                           False   \n",
       "...                            ...                             ...   \n",
       "36452                        False                           False   \n",
       "36453                        False                           False   \n",
       "36454                        False                           False   \n",
       "36455                        False                           False   \n",
       "36456                        False                           False   \n",
       "\n",
       "       OCCUPATION_TYPE_Unknown  OCCUPATION_TYPE_Waiters/barmen staff  \n",
       "0                         True                                 False  \n",
       "1                         True                                 False  \n",
       "2                        False                                 False  \n",
       "3                        False                                 False  \n",
       "4                        False                                 False  \n",
       "...                        ...                                   ...  \n",
       "36452                    False                                 False  \n",
       "36453                    False                                 False  \n",
       "36454                    False                                 False  \n",
       "36455                    False                                 False  \n",
       "36456                    False                                 False  \n",
       "\n",
       "[36457 rows x 48 columns]"
      ]
     },
     "execution_count": 32,
     "metadata": {},
     "output_type": "execute_result"
    }
   ],
   "source": [
    "X = pd.get_dummies(X, drop_first=True) \n",
    "X"
   ]
  },
  {
   "cell_type": "markdown",
   "id": "d32f68dd",
   "metadata": {
    "papermill": {
     "duration": 0.019737,
     "end_time": "2024-12-05T16:25:11.718121",
     "exception": false,
     "start_time": "2024-12-05T16:25:11.698384",
     "status": "completed"
    },
    "tags": []
   },
   "source": [
    "## **Splitting the Data**"
   ]
  },
  {
   "cell_type": "code",
   "execution_count": 33,
   "id": "51218a4c",
   "metadata": {
    "execution": {
     "iopub.execute_input": "2024-12-05T16:25:11.762990Z",
     "iopub.status.busy": "2024-12-05T16:25:11.762540Z",
     "iopub.status.idle": "2024-12-05T16:25:11.779325Z",
     "shell.execute_reply": "2024-12-05T16:25:11.778071Z"
    },
    "papermill": {
     "duration": 0.043961,
     "end_time": "2024-12-05T16:25:11.781987",
     "exception": false,
     "start_time": "2024-12-05T16:25:11.738026",
     "status": "completed"
    },
    "tags": []
   },
   "outputs": [],
   "source": [
    "from sklearn.model_selection import train_test_split\n",
    "\n",
    "X_train, X_test, y_train, y_test = train_test_split(X, y, test_size=0.2, random_state=42)"
   ]
  },
  {
   "cell_type": "markdown",
   "id": "125d75c1",
   "metadata": {
    "papermill": {
     "duration": 0.019704,
     "end_time": "2024-12-05T16:25:11.822288",
     "exception": false,
     "start_time": "2024-12-05T16:25:11.802584",
     "status": "completed"
    },
    "tags": []
   },
   "source": [
    "## **Scalling the Data**"
   ]
  },
  {
   "cell_type": "code",
   "execution_count": 34,
   "id": "e5e48258",
   "metadata": {
    "execution": {
     "iopub.execute_input": "2024-12-05T16:25:11.864199Z",
     "iopub.status.busy": "2024-12-05T16:25:11.863796Z",
     "iopub.status.idle": "2024-12-05T16:25:11.939322Z",
     "shell.execute_reply": "2024-12-05T16:25:11.937905Z"
    },
    "papermill": {
     "duration": 0.099986,
     "end_time": "2024-12-05T16:25:11.942270",
     "exception": false,
     "start_time": "2024-12-05T16:25:11.842284",
     "status": "completed"
    },
    "tags": []
   },
   "outputs": [
    {
     "name": "stdout",
     "output_type": "stream",
     "text": [
      "Normalized input data(X):\n",
      " [[-0.98470504 -0.58068211 -0.51169961 ... -0.12714828 -0.66952\n",
      "  -0.06613304]\n",
      " [-0.80341846  0.7672639  -0.51169961 ... -0.12714828 -0.66952\n",
      "  -0.06613304]\n",
      " [ 0.02026148  2.11520992 -0.06794722 ... -0.12714828 -0.66952\n",
      "  -0.06613304]\n",
      " ...\n",
      " [-0.72977527 -0.58068211 -1.08857771 ... -0.12714828 -0.66952\n",
      "  -0.06613304]\n",
      " [-1.63415189 -0.58068211 -0.28982341 ... -0.12714828  1.49360737\n",
      "  -0.06613304]\n",
      " [-0.37298837 -0.58068211  3.92582424 ... -0.12714828  1.49360737\n",
      "  -0.06613304]]\n"
     ]
    }
   ],
   "source": [
    "from sklearn.preprocessing import StandardScaler\n",
    "\n",
    "\n",
    "scaler = StandardScaler()\n",
    "\n",
    "\n",
    "X_train_scaled= scaler.fit_transform(X_train)\n",
    "X_test_scaled = scaler.transform(X_test)\n",
    "print(\"Normalized input data(X):\\n\", X_train_scaled)"
   ]
  },
  {
   "cell_type": "markdown",
   "id": "cc763c5b",
   "metadata": {
    "papermill": {
     "duration": 0.021042,
     "end_time": "2024-12-05T16:25:12.004195",
     "exception": false,
     "start_time": "2024-12-05T16:25:11.983153",
     "status": "completed"
    },
    "tags": []
   },
   "source": [
    "# **Modeling**"
   ]
  },
  {
   "cell_type": "markdown",
   "id": "9b1df4df",
   "metadata": {
    "papermill": {
     "duration": 0.020029,
     "end_time": "2024-12-05T16:25:12.044076",
     "exception": false,
     "start_time": "2024-12-05T16:25:12.024047",
     "status": "completed"
    },
    "tags": []
   },
   "source": [
    "### Solving Unbalanced Data Problem"
   ]
  },
  {
   "cell_type": "markdown",
   "id": "316d184b",
   "metadata": {
    "papermill": {
     "duration": 0.019745,
     "end_time": "2024-12-05T16:25:12.084441",
     "exception": false,
     "start_time": "2024-12-05T16:25:12.064696",
     "status": "completed"
    },
    "tags": []
   },
   "source": [
    "## **1. Using Stratified K-Fold with Decision Tree Classifier**"
   ]
  },
  {
   "cell_type": "code",
   "execution_count": 35,
   "id": "3fd301e6",
   "metadata": {
    "execution": {
     "iopub.execute_input": "2024-12-05T16:25:12.130135Z",
     "iopub.status.busy": "2024-12-05T16:25:12.128494Z",
     "iopub.status.idle": "2024-12-05T16:25:15.495468Z",
     "shell.execute_reply": "2024-12-05T16:25:15.493942Z"
    },
    "papermill": {
     "duration": 3.393008,
     "end_time": "2024-12-05T16:25:15.498140",
     "exception": false,
     "start_time": "2024-12-05T16:25:12.105132",
     "status": "completed"
    },
    "tags": []
   },
   "outputs": [
    {
     "name": "stdout",
     "output_type": "stream",
     "text": [
      "Cross Validation Scores:  [0.9904011  0.99142955 0.99142955 0.99417209 0.99108673 0.99176955\n",
      " 0.99485597 0.9941701  0.99211248 0.99108368]\n",
      "Average CV Score:  0.9922510795944307\n",
      "Number of CV Scores used in Average:  10\n"
     ]
    }
   ],
   "source": [
    "from sklearn.tree import DecisionTreeClassifier\n",
    "from sklearn.model_selection import StratifiedKFold, cross_val_score\n",
    "\n",
    "\n",
    "clf = DecisionTreeClassifier(random_state=42)\n",
    "\n",
    "sk_folds = StratifiedKFold(n_splits = 10)\n",
    "\n",
    "scores = cross_val_score(clf, X_train_scaled, y_train, cv = sk_folds)\n",
    "\n",
    "print(\"Cross Validation Scores: \", scores)\n",
    "print(\"Average CV Score: \", scores.mean())\n",
    "print(\"Number of CV Scores used in Average: \", len(scores))"
   ]
  },
  {
   "cell_type": "markdown",
   "id": "32adf68e",
   "metadata": {
    "papermill": {
     "duration": 0.020244,
     "end_time": "2024-12-05T16:25:15.538683",
     "exception": false,
     "start_time": "2024-12-05T16:25:15.518439",
     "status": "completed"
    },
    "tags": []
   },
   "source": [
    "## **2. Using SMOTE with XGBoost Classifier**"
   ]
  },
  {
   "cell_type": "code",
   "execution_count": 36,
   "id": "23169d8c",
   "metadata": {
    "execution": {
     "iopub.execute_input": "2024-12-05T16:25:15.582265Z",
     "iopub.status.busy": "2024-12-05T16:25:15.581856Z",
     "iopub.status.idle": "2024-12-05T16:25:16.168012Z",
     "shell.execute_reply": "2024-12-05T16:25:16.166711Z"
    },
    "papermill": {
     "duration": 0.611391,
     "end_time": "2024-12-05T16:25:16.170337",
     "exception": false,
     "start_time": "2024-12-05T16:25:15.558946",
     "status": "completed"
    },
    "tags": []
   },
   "outputs": [],
   "source": [
    "from sklearn.model_selection import GridSearchCV\n",
    "from xgboost import XGBClassifier\n",
    "from imblearn.over_sampling import SMOTE\n",
    "\n",
    "\n",
    "X_blc, y_blc = SMOTE().fit_resample(X_train_scaled, y_train)\n",
    "\n",
    "\n",
    "xgb = XGBClassifier()\n",
    "\n",
    "# Define the hyperparameter grid for grid search\n",
    "param_grid = {\n",
    "    'n_estimators': [100, 200, 300, 800,850],    \n",
    "    'learning_rate': [0.01, 0.001, 0.1, 0.2],   \n",
    "    'max_depth': [3, 4, 5,6],              \n",
    "}\n",
    "\n",
    "\n",
    "grid_search = GridSearchCV(estimator=xgb, param_grid=param_grid, scoring='roc_auc', cv=10, n_jobs=-1)"
   ]
  },
  {
   "cell_type": "code",
   "execution_count": 37,
   "id": "f8c35375",
   "metadata": {
    "execution": {
     "iopub.execute_input": "2024-12-05T16:25:16.213453Z",
     "iopub.status.busy": "2024-12-05T16:25:16.212386Z",
     "iopub.status.idle": "2024-12-05T16:25:16.218094Z",
     "shell.execute_reply": "2024-12-05T16:25:16.216893Z"
    },
    "papermill": {
     "duration": 0.03,
     "end_time": "2024-12-05T16:25:16.220376",
     "exception": false,
     "start_time": "2024-12-05T16:25:16.190376",
     "status": "completed"
    },
    "tags": []
   },
   "outputs": [],
   "source": [
    "#grid_search.fit(X_blc, y_blc)"
   ]
  },
  {
   "cell_type": "code",
   "execution_count": 38,
   "id": "8fbdc058",
   "metadata": {
    "execution": {
     "iopub.execute_input": "2024-12-05T16:25:16.263844Z",
     "iopub.status.busy": "2024-12-05T16:25:16.263423Z",
     "iopub.status.idle": "2024-12-05T16:25:16.268491Z",
     "shell.execute_reply": "2024-12-05T16:25:16.267387Z"
    },
    "papermill": {
     "duration": 0.030509,
     "end_time": "2024-12-05T16:25:16.271043",
     "exception": false,
     "start_time": "2024-12-05T16:25:16.240534",
     "status": "completed"
    },
    "tags": []
   },
   "outputs": [],
   "source": [
    "#print(\"Best hyperparameters: \", grid_search.best_params_)\n",
    "#Best hyperparameters:  {'learning_rate': 0.01, 'max_depth': 3, 'n_estimators': 100}"
   ]
  },
  {
   "cell_type": "code",
   "execution_count": 39,
   "id": "e91f09ef",
   "metadata": {
    "execution": {
     "iopub.execute_input": "2024-12-05T16:25:16.313086Z",
     "iopub.status.busy": "2024-12-05T16:25:16.312676Z",
     "iopub.status.idle": "2024-12-05T16:25:16.319158Z",
     "shell.execute_reply": "2024-12-05T16:25:16.318106Z"
    },
    "papermill": {
     "duration": 0.030422,
     "end_time": "2024-12-05T16:25:16.321567",
     "exception": false,
     "start_time": "2024-12-05T16:25:16.291145",
     "status": "completed"
    },
    "tags": []
   },
   "outputs": [],
   "source": [
    "#best_model = grid_search.best_estimator_\n",
    "#print(best_model)\n",
    "best_model = XGBClassifier(base_score=None, booster=None, callbacks=None,\n",
    "              colsample_bylevel=None, colsample_bynode=None,\n",
    "              colsample_bytree=None, device=None, early_stopping_rounds=None,\n",
    "              enable_categorical=False, eval_metric=None, feature_types=None,\n",
    "              gamma=None, grow_policy=None, importance_type=None,\n",
    "              interaction_constraints=None, learning_rate=0.2, max_bin=None,\n",
    "              max_cat_threshold=None, max_cat_to_onehot=None,\n",
    "              max_delta_step=None, max_depth=6, max_leaves=None,\n",
    "              min_child_weight=None, monotone_constraints=None,\n",
    "              multi_strategy=None, n_estimators=800, n_jobs=None,\n",
    "              num_parallel_tree=None, random_state=None)"
   ]
  },
  {
   "cell_type": "code",
   "execution_count": 40,
   "id": "b9a195b0",
   "metadata": {
    "execution": {
     "iopub.execute_input": "2024-12-05T16:25:16.365168Z",
     "iopub.status.busy": "2024-12-05T16:25:16.364759Z",
     "iopub.status.idle": "2024-12-05T16:25:25.500461Z",
     "shell.execute_reply": "2024-12-05T16:25:25.499667Z"
    },
    "papermill": {
     "duration": 9.159303,
     "end_time": "2024-12-05T16:25:25.502558",
     "exception": false,
     "start_time": "2024-12-05T16:25:16.343255",
     "status": "completed"
    },
    "tags": []
   },
   "outputs": [
    {
     "data": {
      "text/html": [
       "<style>#sk-container-id-1 {color: black;background-color: white;}#sk-container-id-1 pre{padding: 0;}#sk-container-id-1 div.sk-toggleable {background-color: white;}#sk-container-id-1 label.sk-toggleable__label {cursor: pointer;display: block;width: 100%;margin-bottom: 0;padding: 0.3em;box-sizing: border-box;text-align: center;}#sk-container-id-1 label.sk-toggleable__label-arrow:before {content: \"▸\";float: left;margin-right: 0.25em;color: #696969;}#sk-container-id-1 label.sk-toggleable__label-arrow:hover:before {color: black;}#sk-container-id-1 div.sk-estimator:hover label.sk-toggleable__label-arrow:before {color: black;}#sk-container-id-1 div.sk-toggleable__content {max-height: 0;max-width: 0;overflow: hidden;text-align: left;background-color: #f0f8ff;}#sk-container-id-1 div.sk-toggleable__content pre {margin: 0.2em;color: black;border-radius: 0.25em;background-color: #f0f8ff;}#sk-container-id-1 input.sk-toggleable__control:checked~div.sk-toggleable__content {max-height: 200px;max-width: 100%;overflow: auto;}#sk-container-id-1 input.sk-toggleable__control:checked~label.sk-toggleable__label-arrow:before {content: \"▾\";}#sk-container-id-1 div.sk-estimator input.sk-toggleable__control:checked~label.sk-toggleable__label {background-color: #d4ebff;}#sk-container-id-1 div.sk-label input.sk-toggleable__control:checked~label.sk-toggleable__label {background-color: #d4ebff;}#sk-container-id-1 input.sk-hidden--visually {border: 0;clip: rect(1px 1px 1px 1px);clip: rect(1px, 1px, 1px, 1px);height: 1px;margin: -1px;overflow: hidden;padding: 0;position: absolute;width: 1px;}#sk-container-id-1 div.sk-estimator {font-family: monospace;background-color: #f0f8ff;border: 1px dotted black;border-radius: 0.25em;box-sizing: border-box;margin-bottom: 0.5em;}#sk-container-id-1 div.sk-estimator:hover {background-color: #d4ebff;}#sk-container-id-1 div.sk-parallel-item::after {content: \"\";width: 100%;border-bottom: 1px solid gray;flex-grow: 1;}#sk-container-id-1 div.sk-label:hover label.sk-toggleable__label {background-color: #d4ebff;}#sk-container-id-1 div.sk-serial::before {content: \"\";position: absolute;border-left: 1px solid gray;box-sizing: border-box;top: 0;bottom: 0;left: 50%;z-index: 0;}#sk-container-id-1 div.sk-serial {display: flex;flex-direction: column;align-items: center;background-color: white;padding-right: 0.2em;padding-left: 0.2em;position: relative;}#sk-container-id-1 div.sk-item {position: relative;z-index: 1;}#sk-container-id-1 div.sk-parallel {display: flex;align-items: stretch;justify-content: center;background-color: white;position: relative;}#sk-container-id-1 div.sk-item::before, #sk-container-id-1 div.sk-parallel-item::before {content: \"\";position: absolute;border-left: 1px solid gray;box-sizing: border-box;top: 0;bottom: 0;left: 50%;z-index: -1;}#sk-container-id-1 div.sk-parallel-item {display: flex;flex-direction: column;z-index: 1;position: relative;background-color: white;}#sk-container-id-1 div.sk-parallel-item:first-child::after {align-self: flex-end;width: 50%;}#sk-container-id-1 div.sk-parallel-item:last-child::after {align-self: flex-start;width: 50%;}#sk-container-id-1 div.sk-parallel-item:only-child::after {width: 0;}#sk-container-id-1 div.sk-dashed-wrapped {border: 1px dashed gray;margin: 0 0.4em 0.5em 0.4em;box-sizing: border-box;padding-bottom: 0.4em;background-color: white;}#sk-container-id-1 div.sk-label label {font-family: monospace;font-weight: bold;display: inline-block;line-height: 1.2em;}#sk-container-id-1 div.sk-label-container {text-align: center;}#sk-container-id-1 div.sk-container {/* jupyter's `normalize.less` sets `[hidden] { display: none; }` but bootstrap.min.css set `[hidden] { display: none !important; }` so we also need the `!important` here to be able to override the default hidden behavior on the sphinx rendered scikit-learn.org. See: https://github.com/scikit-learn/scikit-learn/issues/21755 */display: inline-block !important;position: relative;}#sk-container-id-1 div.sk-text-repr-fallback {display: none;}</style><div id=\"sk-container-id-1\" class=\"sk-top-container\"><div class=\"sk-text-repr-fallback\"><pre>XGBClassifier(base_score=None, booster=None, callbacks=None,\n",
       "              colsample_bylevel=None, colsample_bynode=None,\n",
       "              colsample_bytree=None, device=None, early_stopping_rounds=None,\n",
       "              enable_categorical=False, eval_metric=None, feature_types=None,\n",
       "              gamma=None, grow_policy=None, importance_type=None,\n",
       "              interaction_constraints=None, learning_rate=0.2, max_bin=None,\n",
       "              max_cat_threshold=None, max_cat_to_onehot=None,\n",
       "              max_delta_step=None, max_depth=6, max_leaves=None,\n",
       "              min_child_weight=None, missing=nan, monotone_constraints=None,\n",
       "              multi_strategy=None, n_estimators=800, n_jobs=None,\n",
       "              num_parallel_tree=None, random_state=None, ...)</pre><b>In a Jupyter environment, please rerun this cell to show the HTML representation or trust the notebook. <br />On GitHub, the HTML representation is unable to render, please try loading this page with nbviewer.org.</b></div><div class=\"sk-container\" hidden><div class=\"sk-item\"><div class=\"sk-estimator sk-toggleable\"><input class=\"sk-toggleable__control sk-hidden--visually\" id=\"sk-estimator-id-1\" type=\"checkbox\" checked><label for=\"sk-estimator-id-1\" class=\"sk-toggleable__label sk-toggleable__label-arrow\">XGBClassifier</label><div class=\"sk-toggleable__content\"><pre>XGBClassifier(base_score=None, booster=None, callbacks=None,\n",
       "              colsample_bylevel=None, colsample_bynode=None,\n",
       "              colsample_bytree=None, device=None, early_stopping_rounds=None,\n",
       "              enable_categorical=False, eval_metric=None, feature_types=None,\n",
       "              gamma=None, grow_policy=None, importance_type=None,\n",
       "              interaction_constraints=None, learning_rate=0.2, max_bin=None,\n",
       "              max_cat_threshold=None, max_cat_to_onehot=None,\n",
       "              max_delta_step=None, max_depth=6, max_leaves=None,\n",
       "              min_child_weight=None, missing=nan, monotone_constraints=None,\n",
       "              multi_strategy=None, n_estimators=800, n_jobs=None,\n",
       "              num_parallel_tree=None, random_state=None, ...)</pre></div></div></div></div></div>"
      ],
      "text/plain": [
       "XGBClassifier(base_score=None, booster=None, callbacks=None,\n",
       "              colsample_bylevel=None, colsample_bynode=None,\n",
       "              colsample_bytree=None, device=None, early_stopping_rounds=None,\n",
       "              enable_categorical=False, eval_metric=None, feature_types=None,\n",
       "              gamma=None, grow_policy=None, importance_type=None,\n",
       "              interaction_constraints=None, learning_rate=0.2, max_bin=None,\n",
       "              max_cat_threshold=None, max_cat_to_onehot=None,\n",
       "              max_delta_step=None, max_depth=6, max_leaves=None,\n",
       "              min_child_weight=None, missing=nan, monotone_constraints=None,\n",
       "              multi_strategy=None, n_estimators=800, n_jobs=None,\n",
       "              num_parallel_tree=None, random_state=None, ...)"
      ]
     },
     "execution_count": 40,
     "metadata": {},
     "output_type": "execute_result"
    }
   ],
   "source": [
    "best_model.fit(X_blc, y_blc)"
   ]
  },
  {
   "cell_type": "code",
   "execution_count": 41,
   "id": "bef19a20",
   "metadata": {
    "execution": {
     "iopub.execute_input": "2024-12-05T16:25:25.545770Z",
     "iopub.status.busy": "2024-12-05T16:25:25.545302Z",
     "iopub.status.idle": "2024-12-05T16:25:25.615659Z",
     "shell.execute_reply": "2024-12-05T16:25:25.614839Z"
    },
    "papermill": {
     "duration": 0.095589,
     "end_time": "2024-12-05T16:25:25.618861",
     "exception": false,
     "start_time": "2024-12-05T16:25:25.523272",
     "status": "completed"
    },
    "tags": []
   },
   "outputs": [],
   "source": [
    "y_pred = best_model.predict(X_test_scaled)"
   ]
  },
  {
   "cell_type": "code",
   "execution_count": 42,
   "id": "25618b62",
   "metadata": {
    "execution": {
     "iopub.execute_input": "2024-12-05T16:25:25.666348Z",
     "iopub.status.busy": "2024-12-05T16:25:25.665296Z",
     "iopub.status.idle": "2024-12-05T16:25:25.672874Z",
     "shell.execute_reply": "2024-12-05T16:25:25.671927Z"
    },
    "papermill": {
     "duration": 0.03232,
     "end_time": "2024-12-05T16:25:25.675289",
     "exception": false,
     "start_time": "2024-12-05T16:25:25.642969",
     "status": "completed"
    },
    "tags": []
   },
   "outputs": [],
   "source": [
    "from sklearn.metrics import confusion_matrix\n",
    "conf_matrix = confusion_matrix(y_test, y_pred)"
   ]
  },
  {
   "cell_type": "code",
   "execution_count": 43,
   "id": "724a959b",
   "metadata": {
    "execution": {
     "iopub.execute_input": "2024-12-05T16:25:25.721129Z",
     "iopub.status.busy": "2024-12-05T16:25:25.719814Z",
     "iopub.status.idle": "2024-12-05T16:25:25.900481Z",
     "shell.execute_reply": "2024-12-05T16:25:25.899172Z"
    },
    "papermill": {
     "duration": 0.206292,
     "end_time": "2024-12-05T16:25:25.902921",
     "exception": false,
     "start_time": "2024-12-05T16:25:25.696629",
     "status": "completed"
    },
    "tags": []
   },
   "outputs": [
    {
     "data": {
      "image/png": "[encoded data removed]",
      "text/plain": [
       "<Figure size 640x480 with 1 Axes>"
      ]
     },
     "metadata": {},
     "output_type": "display_data"
    }
   ],
   "source": [
    "sns.heatmap(conf_matrix, annot=True, fmt='d', cmap='Greys', cbar=False)\n",
    "plt.title('Confusion Matrix for XGBoostClassifier')\n",
    "plt.xlabel('Predicted Label')\n",
    "plt.ylabel('True Label')\n",
    "plt.show()"
   ]
  },
  {
   "cell_type": "code",
   "execution_count": 44,
   "id": "f33b4e4f",
   "metadata": {
    "execution": {
     "iopub.execute_input": "2024-12-05T16:25:25.948684Z",
     "iopub.status.busy": "2024-12-05T16:25:25.948213Z",
     "iopub.status.idle": "2024-12-05T16:25:25.972295Z",
     "shell.execute_reply": "2024-12-05T16:25:25.970700Z"
    },
    "papermill": {
     "duration": 0.050305,
     "end_time": "2024-12-05T16:25:25.974956",
     "exception": false,
     "start_time": "2024-12-05T16:25:25.924651",
     "status": "completed"
    },
    "tags": []
   },
   "outputs": [
    {
     "name": "stdout",
     "output_type": "stream",
     "text": [
      "\n",
      "Classification Report for XGBoostClassifier:\n",
      "              precision    recall  f1-score   support\n",
      "\n",
      "           0       0.27      0.18      0.21        34\n",
      "           1       1.00      1.00      1.00      7258\n",
      "\n",
      "    accuracy                           0.99      7292\n",
      "   macro avg       0.63      0.59      0.61      7292\n",
      "weighted avg       0.99      0.99      0.99      7292\n",
      "\n"
     ]
    }
   ],
   "source": [
    "from sklearn.metrics import classification_report\n",
    "\n",
    "classification_rep = classification_report(y_test, y_pred)\n",
    "print('\\nClassification Report for XGBoostClassifier:')\n",
    "print(classification_rep)"
   ]
  },
  {
   "cell_type": "markdown",
   "id": "6c38eb50",
   "metadata": {
    "papermill": {
     "duration": 0.023906,
     "end_time": "2024-12-05T16:25:26.021075",
     "exception": false,
     "start_time": "2024-12-05T16:25:25.997169",
     "status": "completed"
    },
    "tags": []
   },
   "source": [
    "## **3. Using Stratified K-Fold with Scaled Weights XGBoost Classifier**"
   ]
  },
  {
   "cell_type": "code",
   "execution_count": 45,
   "id": "e67b725d",
   "metadata": {
    "execution": {
     "iopub.execute_input": "2024-12-05T16:25:26.066534Z",
     "iopub.status.busy": "2024-12-05T16:25:26.066126Z",
     "iopub.status.idle": "2024-12-05T16:26:21.159751Z",
     "shell.execute_reply": "2024-12-05T16:26:21.158668Z"
    },
    "papermill": {
     "duration": 55.148683,
     "end_time": "2024-12-05T16:26:21.191741",
     "exception": false,
     "start_time": "2024-12-05T16:25:26.043058",
     "status": "completed"
    },
    "tags": []
   },
   "outputs": [
    {
     "name": "stdout",
     "output_type": "stream",
     "text": [
      "Best: 0.695126 using {'scale_pos_weight': 200}\n",
      "0.677943 (0.082162) with: {'scale_pos_weight': 1}\n",
      "0.680694 (0.089418) with: {'scale_pos_weight': 45}\n",
      "0.683364 (0.076727) with: {'scale_pos_weight': 55}\n",
      "0.686942 (0.083286) with: {'scale_pos_weight': 65}\n",
      "0.686916 (0.077717) with: {'scale_pos_weight': 70}\n",
      "0.689662 (0.076759) with: {'scale_pos_weight': 75}\n",
      "0.693442 (0.076370) with: {'scale_pos_weight': 85}\n",
      "0.695126 (0.083198) with: {'scale_pos_weight': 200}\n"
     ]
    }
   ],
   "source": [
    "# grid search positive class weights with xgboost for imbalance classification\n",
    "from numpy import mean\n",
    "from sklearn.model_selection import GridSearchCV\n",
    "from sklearn.model_selection import RepeatedStratifiedKFold\n",
    "from xgboost import XGBClassifier\n",
    "\n",
    "# define model\n",
    "model = XGBClassifier()\n",
    "# define grid\n",
    "weights = [1, 45, 55, 65, 70, 75, 85, 200]#[1, 10, 25, 50, 75, 99, 100, 1000]\n",
    "param_grid = dict(scale_pos_weight=weights)\n",
    "# define evaluation procedure\n",
    "cv = RepeatedStratifiedKFold(n_splits=10, n_repeats=3, random_state=1)\n",
    "# define grid search\n",
    "grid = GridSearchCV(estimator=model, param_grid=param_grid, n_jobs=-1, cv=cv, scoring='roc_auc')\n",
    "# execute the grid search\n",
    "grid_result = grid.fit(X_train_scaled, y_train)\n",
    "# report the best configuration\n",
    "print(\"Best: %f using %s\" % (grid_result.best_score_, grid_result.best_params_))\n",
    "# report all configurations\n",
    "means = grid_result.cv_results_['mean_test_score']\n",
    "stds = grid_result.cv_results_['std_test_score']\n",
    "params = grid_result.cv_results_['params']\n",
    "for mean, stdev, param in zip(means, stds, params):\n",
    "    print(\"%f (%f) with: %r\" % (mean, stdev, param))"
   ]
  },
  {
   "cell_type": "code",
   "execution_count": 46,
   "id": "11a5126f",
   "metadata": {
    "execution": {
     "iopub.execute_input": "2024-12-05T16:26:21.249715Z",
     "iopub.status.busy": "2024-12-05T16:26:21.249113Z",
     "iopub.status.idle": "2024-12-05T16:26:21.258507Z",
     "shell.execute_reply": "2024-12-05T16:26:21.256951Z"
    },
    "papermill": {
     "duration": 0.039829,
     "end_time": "2024-12-05T16:26:21.261247",
     "exception": false,
     "start_time": "2024-12-05T16:26:21.221418",
     "status": "completed"
    },
    "tags": []
   },
   "outputs": [],
   "source": [
    "from imblearn.over_sampling import SMOTE\n",
    "from imblearn.combine import SMOTEENN\n",
    "from imblearn.combine import SMOTETomek\n",
    "from imblearn.under_sampling import TomekLinks\n",
    "\n",
    "smote=SMOTE()\n",
    "smote_enn = SMOTEENN(random_state=42, sampling_strategy = 'not majority')\n",
    "smote_tomek = SMOTETomek()"
   ]
  },
  {
   "cell_type": "code",
   "execution_count": 47,
   "id": "a4e3baf9",
   "metadata": {
    "execution": {
     "iopub.execute_input": "2024-12-05T16:26:21.305871Z",
     "iopub.status.busy": "2024-12-05T16:26:21.305460Z",
     "iopub.status.idle": "2024-12-05T16:28:22.228840Z",
     "shell.execute_reply": "2024-12-05T16:28:22.227716Z"
    },
    "papermill": {
     "duration": 120.972309,
     "end_time": "2024-12-05T16:28:22.255196",
     "exception": false,
     "start_time": "2024-12-05T16:26:21.282887",
     "status": "completed"
    },
    "tags": []
   },
   "outputs": [
    {
     "name": "stdout",
     "output_type": "stream",
     "text": [
      "List of possible accuracy: [0.9947204223662107, 0.9949604031677466, 0.9940004799616031, 0.9937590014402304, 0.9939990398463754, 0.9942390782525204, 0.9949591934709554]\n",
      "\n",
      "Maximum Accuracy That can be obtained from this model is: 99.49604031677465 %\n",
      "\n",
      "Minimum Accuracy: 99.37590014402305 %\n"
     ]
    }
   ],
   "source": [
    "# Create StratifiedKFold object.\n",
    "kfold = 7\n",
    "skf2 = StratifiedKFold(n_splits=kfold, shuffle=True, random_state=1)\n",
    "lst_accu_stratified = []\n",
    "\n",
    "\n",
    "xgb2 = XGBClassifier(scale_pos_weight=20, learning_rate=0.5, n_estimators=1000, min_child_weight = 10.0)#,\n",
    "\n",
    "XX = X_train_scaled\n",
    "yy = y_train.values\n",
    "\n",
    "for train_index, test_index in skf2.split(XX, yy):\n",
    "   x_train_fold, x_test_fold = XX[train_index], XX[test_index]\n",
    "   y_train_fold, y_test_fold = yy[train_index], yy[test_index]\n",
    "   smote_X_train, smote_y_train = smote_tomek.fit_resample(x_train_fold,y_train_fold)\n",
    "   smote_X_train2, smote_y_train2 = smote.fit_resample(smote_X_train, smote_y_train)\n",
    "   xgb2.fit(smote_X_train2, smote_y_train2)\n",
    "   lst_accu_stratified.append(xgb2.score(x_test_fold, y_test_fold))\n",
    "  \n",
    "# Print the output.\n",
    "print('List of possible accuracy:', lst_accu_stratified)\n",
    "print('\\nMaximum Accuracy That can be obtained from this model is:',\n",
    "      max(lst_accu_stratified)*100, '%')\n",
    "print('\\nMinimum Accuracy:',\n",
    "      min(lst_accu_stratified)*100, '%')\n",
    "#print('\\nStandard Deviation is:', stdev(lst_accu_stratified))"
   ]
  },
  {
   "cell_type": "code",
   "execution_count": 48,
   "id": "424f89d7",
   "metadata": {
    "execution": {
     "iopub.execute_input": "2024-12-05T16:28:22.300443Z",
     "iopub.status.busy": "2024-12-05T16:28:22.300055Z",
     "iopub.status.idle": "2024-12-05T16:28:22.390541Z",
     "shell.execute_reply": "2024-12-05T16:28:22.389689Z"
    },
    "papermill": {
     "duration": 0.116087,
     "end_time": "2024-12-05T16:28:22.393294",
     "exception": false,
     "start_time": "2024-12-05T16:28:22.277207",
     "status": "completed"
    },
    "tags": []
   },
   "outputs": [],
   "source": [
    "y_pred2 = xgb2.predict(X_test_scaled)"
   ]
  },
  {
   "cell_type": "code",
   "execution_count": 49,
   "id": "7330deb5",
   "metadata": {
    "execution": {
     "iopub.execute_input": "2024-12-05T16:28:22.443981Z",
     "iopub.status.busy": "2024-12-05T16:28:22.442960Z",
     "iopub.status.idle": "2024-12-05T16:28:22.452260Z",
     "shell.execute_reply": "2024-12-05T16:28:22.450650Z"
    },
    "papermill": {
     "duration": 0.037203,
     "end_time": "2024-12-05T16:28:22.455183",
     "exception": false,
     "start_time": "2024-12-05T16:28:22.417980",
     "status": "completed"
    },
    "tags": []
   },
   "outputs": [],
   "source": [
    "conf_matrix2 = confusion_matrix(y_test, y_pred2)"
   ]
  },
  {
   "cell_type": "code",
   "execution_count": 50,
   "id": "86fbe8a3",
   "metadata": {
    "execution": {
     "iopub.execute_input": "2024-12-05T16:28:22.559555Z",
     "iopub.status.busy": "2024-12-05T16:28:22.559154Z",
     "iopub.status.idle": "2024-12-05T16:28:22.744235Z",
     "shell.execute_reply": "2024-12-05T16:28:22.742935Z"
    },
    "papermill": {
     "duration": 0.210229,
     "end_time": "2024-12-05T16:28:22.746697",
     "exception": false,
     "start_time": "2024-12-05T16:28:22.536468",
     "status": "completed"
    },
    "tags": []
   },
   "outputs": [
    {
     "data": {
      "image/png": "[encoded data removed]",
      "text/plain": [
       "<Figure size 640x480 with 1 Axes>"
      ]
     },
     "metadata": {},
     "output_type": "display_data"
    }
   ],
   "source": [
    "sns.heatmap(conf_matrix2, annot=True, fmt='d', cmap='Greys', cbar=False)\n",
    "plt.title('Confusion Matrix for XGBoostClassifier')\n",
    "plt.xlabel('Predicted Label')\n",
    "plt.ylabel('True Label')\n",
    "plt.show()"
   ]
  },
  {
   "cell_type": "code",
   "execution_count": 51,
   "id": "35a16969",
   "metadata": {
    "execution": {
     "iopub.execute_input": "2024-12-05T16:28:22.792571Z",
     "iopub.status.busy": "2024-12-05T16:28:22.792212Z",
     "iopub.status.idle": "2024-12-05T16:28:22.814861Z",
     "shell.execute_reply": "2024-12-05T16:28:22.813357Z"
    },
    "papermill": {
     "duration": 0.048068,
     "end_time": "2024-12-05T16:28:22.817425",
     "exception": false,
     "start_time": "2024-12-05T16:28:22.769357",
     "status": "completed"
    },
    "tags": []
   },
   "outputs": [
    {
     "name": "stdout",
     "output_type": "stream",
     "text": [
      "\n",
      "Classification Report for XGBoostClassifier:\n",
      "              precision    recall  f1-score   support\n",
      "\n",
      "           0       0.27      0.12      0.16        34\n",
      "           1       1.00      1.00      1.00      7258\n",
      "\n",
      "    accuracy                           0.99      7292\n",
      "   macro avg       0.63      0.56      0.58      7292\n",
      "weighted avg       0.99      0.99      0.99      7292\n",
      "\n"
     ]
    }
   ],
   "source": [
    "from sklearn.metrics import classification_report, accuracy_score\n",
    "\n",
    "classification_rep = classification_report(y_test, y_pred2)\n",
    "print('\\nClassification Report for XGBoostClassifier:')\n",
    "print(classification_rep)"
   ]
  },
  {
   "cell_type": "markdown",
   "id": "acf4b493",
   "metadata": {
    "papermill": {
     "duration": 0.023947,
     "end_time": "2024-12-05T16:28:22.864256",
     "exception": false,
     "start_time": "2024-12-05T16:28:22.840309",
     "status": "completed"
    },
    "tags": []
   },
   "source": [
    "## **4. Applying XGBoost on PCA Components of Balanced SMOTE_TOMEK Data**"
   ]
  },
  {
   "cell_type": "code",
   "execution_count": 52,
   "id": "4e1bc3ff",
   "metadata": {
    "execution": {
     "iopub.execute_input": "2024-12-05T16:28:22.911986Z",
     "iopub.status.busy": "2024-12-05T16:28:22.910916Z",
     "iopub.status.idle": "2024-12-05T16:28:41.286885Z",
     "shell.execute_reply": "2024-12-05T16:28:41.284400Z"
    },
    "papermill": {
     "duration": 18.408663,
     "end_time": "2024-12-05T16:28:41.295948",
     "exception": false,
     "start_time": "2024-12-05T16:28:22.887285",
     "status": "completed"
    },
    "tags": []
   },
   "outputs": [],
   "source": [
    "from sklearn.decomposition import PCA\n",
    "\n",
    "from sklearn.preprocessing import StandardScaler\n",
    "\n",
    "smote_X, smote_y = smote_tomek.fit_resample(X,y)\n",
    "\n",
    "scaler = StandardScaler()\n",
    "X_scaled= scaler.fit_transform(smote_X)\n",
    "\n",
    "pca = PCA(5)\n",
    "\n",
    "# Apply PCA to the data, transforming it to a new space of principal components\n",
    "# 'x' should be your feature matrix (2D array or DataFrame)\n",
    "pca_data = pca.fit_transform(X_scaled)\n",
    "\n",
    "# Create a DataFrame to store the transformed data (principal components)\n",
    "# Each column corresponds to a principal component (e.g., Principal Component 1, Principal Component 2, etc.)\n",
    "pca_df = pd.DataFrame(pca_data, columns=[f'Principal Component {i+1}' for i in range(pca_data.shape[1])])"
   ]
  },
  {
   "cell_type": "code",
   "execution_count": 53,
   "id": "d6aec54b",
   "metadata": {
    "execution": {
     "iopub.execute_input": "2024-12-05T16:28:41.369182Z",
     "iopub.status.busy": "2024-12-05T16:28:41.368201Z",
     "iopub.status.idle": "2024-12-05T16:28:41.383280Z",
     "shell.execute_reply": "2024-12-05T16:28:41.382064Z"
    },
    "papermill": {
     "duration": 0.045176,
     "end_time": "2024-12-05T16:28:41.385874",
     "exception": false,
     "start_time": "2024-12-05T16:28:41.340698",
     "status": "completed"
    },
    "tags": []
   },
   "outputs": [],
   "source": [
    "X_train_pca, X_test_pca, y_train_pca, y_test_pca = train_test_split(pca_df, smote_y, test_size=0.2, random_state=42)"
   ]
  },
  {
   "cell_type": "code",
   "execution_count": 54,
   "id": "5298f17a",
   "metadata": {
    "execution": {
     "iopub.execute_input": "2024-12-05T16:28:41.432154Z",
     "iopub.status.busy": "2024-12-05T16:28:41.431711Z",
     "iopub.status.idle": "2024-12-05T16:28:42.397996Z",
     "shell.execute_reply": "2024-12-05T16:28:42.397135Z"
    },
    "papermill": {
     "duration": 0.993836,
     "end_time": "2024-12-05T16:28:42.401517",
     "exception": false,
     "start_time": "2024-12-05T16:28:41.407681",
     "status": "completed"
    },
    "tags": []
   },
   "outputs": [
    {
     "name": "stdout",
     "output_type": "stream",
     "text": [
      "Score is 0.9592385681771156\n",
      "[[6957  254]\n",
      " [ 337 6951]]\n",
      "0.9592385681771156\n"
     ]
    }
   ],
   "source": [
    "xg = XGBClassifier(n_estimators=500, max_depth=3)\n",
    "xg.fit(X_train_pca, y_train_pca)\n",
    "y_pred_pca = xg.predict(X_test_pca)\n",
    "score = accuracy_score(y_test_pca, y_pred_pca)\n",
    "print(\"Score is \"+ str(score))\n",
    "\n",
    "\n",
    "matrix = confusion_matrix(y_test_pca, y_pred_pca)\n",
    "print(matrix)\n",
    "score = accuracy_score(y_test_pca, y_pred_pca)\n",
    "print(score)"
   ]
  },
  {
   "cell_type": "code",
   "execution_count": 55,
   "id": "548ed664",
   "metadata": {
    "execution": {
     "iopub.execute_input": "2024-12-05T16:28:42.448379Z",
     "iopub.status.busy": "2024-12-05T16:28:42.448004Z",
     "iopub.status.idle": "2024-12-05T16:28:42.632998Z",
     "shell.execute_reply": "2024-12-05T16:28:42.631687Z"
    },
    "papermill": {
     "duration": 0.211333,
     "end_time": "2024-12-05T16:28:42.635670",
     "exception": false,
     "start_time": "2024-12-05T16:28:42.424337",
     "status": "completed"
    },
    "tags": []
   },
   "outputs": [
    {
     "data": {
      "image/png": "[encoded data removed]",
      "text/plain": [
       "<Figure size 640x480 with 1 Axes>"
      ]
     },
     "metadata": {},
     "output_type": "display_data"
    }
   ],
   "source": [
    "sns.heatmap(matrix, annot=True, fmt='d', cmap='Greys', cbar=False)\n",
    "plt.title('Confusion Matrix for XGBoostClassifier')\n",
    "plt.xlabel('Predicted Label')\n",
    "plt.ylabel('True Label')\n",
    "plt.show()"
   ]
  },
  {
   "cell_type": "code",
   "execution_count": 56,
   "id": "c1d5829e",
   "metadata": {
    "execution": {
     "iopub.execute_input": "2024-12-05T16:28:42.686440Z",
     "iopub.status.busy": "2024-12-05T16:28:42.685385Z",
     "iopub.status.idle": "2024-12-05T16:28:42.723974Z",
     "shell.execute_reply": "2024-12-05T16:28:42.722525Z"
    },
    "papermill": {
     "duration": 0.067317,
     "end_time": "2024-12-05T16:28:42.726304",
     "exception": false,
     "start_time": "2024-12-05T16:28:42.658987",
     "status": "completed"
    },
    "tags": []
   },
   "outputs": [
    {
     "name": "stdout",
     "output_type": "stream",
     "text": [
      "              precision    recall  f1-score   support\n",
      "\n",
      "           0       0.95      0.96      0.96      7211\n",
      "           1       0.96      0.95      0.96      7288\n",
      "\n",
      "    accuracy                           0.96     14499\n",
      "   macro avg       0.96      0.96      0.96     14499\n",
      "weighted avg       0.96      0.96      0.96     14499\n",
      "\n"
     ]
    }
   ],
   "source": [
    "report = classification_report(y_test_pca, y_pred_pca)\n",
    "print(report)"
   ]
  },
  {
   "cell_type": "markdown",
   "id": "5545c527",
   "metadata": {
    "papermill": {
     "duration": 0.022543,
     "end_time": "2024-12-05T16:28:42.772457",
     "exception": false,
     "start_time": "2024-12-05T16:28:42.749914",
     "status": "completed"
    },
    "tags": []
   },
   "source": [
    "#### Finally, imbalaned data problem has solved, by applying PCA on resampled data and applying XGBoost on PCA data."
   ]
  }
 ],
 "metadata": {
  "kaggle": {
   "accelerator": "none",
   "dataSources": [
    {
     "datasetId": 6192264,
     "sourceId": 10050242,
     "sourceType": "datasetVersion"
    },
    {
     "datasetId": 426827,
     "sourceId": 1031720,
     "sourceType": "datasetVersion"
    }
   ],
   "isGpuEnabled": false,
   "isInternetEnabled": true,
   "language": "python",
   "sourceType": "notebook"
  },
  "kernelspec": {
   "display_name": "Python 3",
   "language": "python",
   "name": "python3"
  },
  "language_info": {
   "codemirror_mode": {
    "name": "ipython",
    "version": 3
   },
   "file_extension": ".py",
   "mimetype": "text/x-python",
   "name": "python",
   "nbconvert_exporter": "python",
   "pygments_lexer": "ipython3",
   "version": "3.10.14"
  },
  "papermill": {
   "default_parameters": {},
   "duration": 243.273321,
   "end_time": "2024-12-05T16:28:45.416849",
   "environment_variables": {},
   "exception": null,
   "input_path": "__notebook__.ipynb",
   "output_path": "__notebook__.ipynb",
   "parameters": {},
   "start_time": "2024-12-05T16:24:42.143528",
   "version": "2.6.0"
  }
 },
 "nbformat": 4,
 "nbformat_minor": 5
}
